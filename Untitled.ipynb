{
 "cells": [
  {
   "cell_type": "code",
   "execution_count": 35,
   "id": "d46a43e1",
   "metadata": {},
   "outputs": [],
   "source": [
    "import os\n",
    "import pandas as pd\n",
    "import shutil\n",
    "from time import sleep\n",
    "from zipfile import ZipFile"
   ]
  },
  {
   "cell_type": "code",
   "execution_count": 36,
   "id": "492b1aa1",
   "metadata": {},
   "outputs": [],
   "source": [
    "zipped_folder = os.path.join(\n",
    "    \"C:\\\\Users\\\\Munira\\\\Desktop\\\\demo-pipeline\",'Ingestion', \"zipped_raw_data\"\n",
    ")\n",
    "unzipped_folder = os.path.join(\"C:\\\\Users\\\\Munira\\\\Desktop\\\\demo-pipeline\",'Ingestion', \"raw_data\")\n",
    "\n",
    "zip_files=[x for x in os.listdir(zipped_folder) if x.endswith('.zip')]\n",
    "\n",
    "for zip_file in zip_files:\n",
    "\n",
    "    # Extract files\n",
    "    extract_and_unzip_file(zip_file_path=os.path.join(zipped_folder,zip_file), unzipped_folder=unzipped_folder)\n",
    "    # Move processed zip files to subfolder\n",
    "    move_files_to_new_subfolder(new_folder_name='Processed',file_identifier=zip_file,original_folder_path=zipped_folder)\n",
    "\n",
    "# Organize into data vs ReadMe files\n",
    "move_files_to_new_subfolder(new_folder_name=\"ReadMeFiles\", file_identifier=\"readme\", original_folder_path=unzipped_folder)\n",
    "move_files_to_new_subfolder(new_folder_name=\"DataFiles\", file_identifier=\"txt\", original_folder_path=unzipped_folder)\n",
    "\n",
    "# Clean data to prepare for ingestion into postgres and write cleaned data to CSV\n",
    "txt_files=[x for x in os.listdir(os.path.join(unzipped_folder,'DataFiles')) if x.endswith('.txt')]\n",
    "os.mkdir(os.path.join(unzipped_folder,'CleanedData'))\n",
    "\n",
    "for txt_file in txt_files:\n",
    "    # Clean data and write into CSV files\n",
    "    clean_raw_data_files(os.path.join(unzipped_folder,'DataFiles',txt_file), os.path.join(unzipped_folder,'CleanedData'))\n",
    "    # Move processed raw txt files into Processed subfolder\n",
    "    move_files_to_new_subfolder(new_folder_name=\"Processed\",file_identifier=txt_file,original_folder_path=os.path.join(unzipped_folder,'DataFiles'))"
   ]
  }
 ],
 "metadata": {
  "kernelspec": {
   "display_name": "Python 3 (ipykernel)",
   "language": "python",
   "name": "python3"
  },
  "language_info": {
   "codemirror_mode": {
    "name": "ipython",
    "version": 3
   },
   "file_extension": ".py",
   "mimetype": "text/x-python",
   "name": "python",
   "nbconvert_exporter": "python",
   "pygments_lexer": "ipython3",
   "version": "3.9.6"
  }
 },
 "nbformat": 4,
 "nbformat_minor": 5
}
