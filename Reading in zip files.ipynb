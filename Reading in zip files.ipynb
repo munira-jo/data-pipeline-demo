{
 "cells": [
  {
   "cell_type": "code",
   "execution_count": 133,
   "id": "1c9c1fd9",
   "metadata": {},
   "outputs": [],
   "source": [
    "import psycopg2\n",
    "from zipfile import ZipFile\n",
    "import pandas as pd\n",
    "import os\n",
    "from io import StringIO\n",
    "import numpy as np\n",
    "import shutil\n",
    "\n",
    "zipped_folder=os.path.join('C:\\\\Users\\\\Munira\\\\Desktop\\\\demo-pipeline','zipped_raw_data')\n",
    "\n",
    "unzipped_folder=os.path.join('C:\\\\Users\\\\Munira\\\\Desktop\\\\demo-pipeline','raw_data')\n",
    "\n",
    "def connect_to_db(db_name,password):\n",
    "    conn = psycopg2.connect(f\"dbname={db_name} user=dataengineer host='mydb.cb7sygkkbh0u.us-east-2.rds.amazonaws.com' port=5432 password={password}\")\n",
    "    cur = conn.cursor()\n",
    "    return conn,cur\n",
    "\n",
    "def extract_and_unzip_files(zipped_folder, unzipped_folder):\n",
    "    for zip_filename in os.listdir(zipped_folder):\n",
    "        z=ZipFile(os.path.join(zipped_folder,zip_filename))\n",
    "        z.extractall(unzipped_folder)\n",
    "\n"
   ]
  },
  {
   "cell_type": "code",
   "execution_count": 25,
   "id": "de42b8f2",
   "metadata": {},
   "outputs": [],
   "source": [
    "def move_files_to_new_subfolder(new_folder_name,file_identifier,original_file_location):\n",
    "    try:\n",
    "        # Create subfolder\n",
    "        os.mkdir(os.path.join(unzipped_folder,new_folder_name))\n",
    "        # Get all files with file_identifier as part of their filenames\n",
    "        files_list=[x  for x in os.listdir(unzipped_folder) if file_identifier in x]\n",
    "        # Move files to new subfolder\n",
    "        for file in files_list:\n",
    "            shutil.move(os.path.join(original_file_location,file), os.path.join(original_file_location,new_folder_name,file))\n",
    "    except FileExistsError:\n",
    "        pass\n",
    "    print('Done')"
   ]
  },
  {
   "cell_type": "code",
   "execution_count": 27,
   "id": "045b8565",
   "metadata": {},
   "outputs": [],
   "source": [
    "extract_and_unzip_files(zipped_folder,unzipped_folder)\n",
    "\n",
    "move_files_to_new_subfolder('ReadMeFiles','Readme',unzipped_folder)\n",
    "\n",
    "move_files_to_new_subfolder('DataFiles','txt',unzipped_folder)"
   ]
  },
  {
   "cell_type": "code",
   "execution_count": 123,
   "id": "6b729aa7",
   "metadata": {},
   "outputs": [],
   "source": [
    "file_identifier='Readme'"
   ]
  },
  {
   "cell_type": "code",
   "execution_count": 124,
   "id": "51cabb82",
   "metadata": {},
   "outputs": [],
   "source": [
    "files_list = [\n",
    "    x\n",
    "    for x in os.listdir(unzipped_folder)\n",
    "    if file_identifier.lower() in x.lower()\n",
    "]"
   ]
  },
  {
   "cell_type": "code",
   "execution_count": 125,
   "id": "1bc52b60",
   "metadata": {},
   "outputs": [
    {
     "data": {
      "text/plain": [
       "['ReadMeFiles', 'ReadMe_Census.txt']"
      ]
     },
     "execution_count": 125,
     "metadata": {},
     "output_type": "execute_result"
    }
   ],
   "source": [
    "files_list\n"
   ]
  },
  {
   "cell_type": "code",
   "execution_count": null,
   "id": "f656a16e",
   "metadata": {},
   "outputs": [],
   "source": [
    "\n",
    "# Move files to new subfolder\n",
    "for file in files_list:\n",
    "    shutil.move(\n",
    "        os.path.join(original_file_location, file),\n",
    "        os.path.join(original_file_location, new_folder_name, file),\n",
    "    )"
   ]
  },
  {
   "cell_type": "code",
   "execution_count": 119,
   "id": "a4b4f5d9",
   "metadata": {},
   "outputs": [
    {
     "name": "stdout",
     "output_type": "stream",
     "text": [
      "Done\n"
     ]
    }
   ],
   "source": [
    "move_files_to_new_subfolder('ReadMeFiles','Readme',unzipped_folder)"
   ]
  },
  {
   "cell_type": "code",
   "execution_count": null,
   "id": "b840b9a6",
   "metadata": {},
   "outputs": [],
   "source": []
  },
  {
   "cell_type": "markdown",
   "id": "867dce5f",
   "metadata": {},
   "source": [
    "## Modifying raw data files"
   ]
  },
  {
   "cell_type": "code",
   "execution_count": 60,
   "id": "0a35021d",
   "metadata": {},
   "outputs": [],
   "source": [
    "os.mkdir(os.path.join(unzipped_folder,'CleanedData'))"
   ]
  },
  {
   "cell_type": "code",
   "execution_count": 90,
   "id": "b9809c50",
   "metadata": {},
   "outputs": [
    {
     "data": {
      "text/plain": [
       "'CleanedData'"
      ]
     },
     "execution_count": 90,
     "metadata": {},
     "output_type": "execute_result"
    }
   ],
   "source": [
    "os.path.join(unzipped_folder,'CleanedData').split('\\\\')[-1]"
   ]
  },
  {
   "cell_type": "code",
   "execution_count": 149,
   "id": "e47dbabc",
   "metadata": {},
   "outputs": [],
   "source": [
    "def clean_raw_data_files(original_filepath,cleaned_folder_path):\n",
    "\n",
    "    df=pd.read_csv(original_filepath,encoding='cp1252')\n",
    "\n",
    "    # Remove rows where all values are missing\n",
    "    df=df.dropna(how='all')\n",
    "\n",
    "    # Replacing empty strings for float columns with nans\n",
    "    num_cols = [col for col in df.columns if df[col].dtype in ['float64','int64']]\n",
    "    for col in num_cols:\n",
    "        df[col]=df[col].fillna(np.nan)\n",
    "        df.loc[df[col]=='',col]=np.nan\n",
    "\n",
    "    # Replacing nulls with empty strings for text columns\n",
    "    cols=[col for col in df.columns if df[col].dtype=='O']\n",
    "    for col in cols:\n",
    "        df[col]=df[col].fillna('')\n",
    "\n",
    "    # Write into CSV file\n",
    "    df.to_csv(os.path.join(cleaned_folder_path,os.path.split(original_filepath)[-1].replace('.txt','.csv')),index=False)\n"
   ]
  },
  {
   "cell_type": "code",
   "execution_count": null,
   "id": "e04a34c9",
   "metadata": {},
   "outputs": [],
   "source": []
  },
  {
   "cell_type": "code",
   "execution_count": 150,
   "id": "81f40acb",
   "metadata": {},
   "outputs": [],
   "source": [
    "original_filepath=os.path.join(unzipped_folder,'DataFiles','2022Aug_Violation.txt')"
   ]
  },
  {
   "cell_type": "code",
   "execution_count": 151,
   "id": "1581f1e5",
   "metadata": {},
   "outputs": [],
   "source": [
    "cleaned_folder_path=os.path.join(unzipped_folder,'CleanedData')"
   ]
  },
  {
   "cell_type": "code",
   "execution_count": 152,
   "id": "4786522e",
   "metadata": {},
   "outputs": [],
   "source": [
    "clean_raw_data_files(original_filepath,cleaned_folder_path)"
   ]
  },
  {
   "cell_type": "code",
   "execution_count": 153,
   "id": "c157eb57",
   "metadata": {},
   "outputs": [],
   "source": [
    "df=pd.read_csv(original_filepath,encoding='cp1252')\n",
    "\n",
    "# Remove rows where all values are missing\n",
    "df=df.dropna(how='all')\n",
    "\n",
    "# Replacing empty strings for float columns with nans\n",
    "num_cols = [col for col in df.columns if df[col].dtype in ['float64','int64']]\n",
    "for col in num_cols:\n",
    "    df[col]=df[col].fillna(np.nan)\n",
    "    df.loc[df[col]=='',col]=np.nan\n",
    "\n",
    "# Replacing nulls with empty strings for text columns\n",
    "cols=[col for col in df.columns if df[col].dtype=='O']\n",
    "for col in cols:\n",
    "    df[col]=df[col].fillna('')\n",
    "\n"
   ]
  },
  {
   "cell_type": "code",
   "execution_count": 155,
   "id": "f4a778e6",
   "metadata": {},
   "outputs": [
    {
     "data": {
      "text/plain": [
       "array(['D', '1', '2', 'C', '4', '3', '5', '6'], dtype=object)"
      ]
     },
     "execution_count": 155,
     "metadata": {},
     "output_type": "execute_result"
    }
   ],
   "source": [
    "df['VIOL_UNIT'].unique()"
   ]
  },
  {
   "cell_type": "code",
   "execution_count": 160,
   "id": "b11b197d",
   "metadata": {},
   "outputs": [
    {
     "name": "stdout",
     "output_type": "stream",
     "text": [
      "INSP_DATE\n",
      "col: None len: 9\n",
      "VIOL_CODE\n",
      "col: None len: 14\n",
      "BASIC_DESC\n",
      "col: None len: 36\n",
      "OOS_INDICATOR\n",
      "col: None len: 1\n",
      "SECTION_DESC\n",
      "col: None len: 162\n",
      "GROUP_DESC\n",
      "col: None len: 36\n",
      "VIOL_UNIT\n",
      "col: None len: 1\n"
     ]
    }
   ],
   "source": [
    "for col in [x for x in df.columns if df[x].dtype=='O']:\n",
    "    print(f'col: {print(col)} len: {df[col].str.len().max()}')"
   ]
  },
  {
   "cell_type": "code",
   "execution_count": 170,
   "id": "24ed17a2",
   "metadata": {},
   "outputs": [
    {
     "data": {
      "text/plain": [
       "46"
      ]
     },
     "execution_count": 170,
     "metadata": {},
     "output_type": "execute_result"
    }
   ],
   "source": [
    "len('Failing to use seat belt while operating a CMV')"
   ]
  },
  {
   "cell_type": "code",
   "execution_count": 169,
   "id": "51480534",
   "metadata": {},
   "outputs": [
    {
     "data": {
      "text/plain": [
       "UNIQUE_ID                                               635384790.0\n",
       "INSP_DATE                                                 26-AUG-20\n",
       "DOT_NUMBER                                                2582962.0\n",
       "VIOL_CODE                                                     39216\n",
       "BASIC_DESC                                           Unsafe Driving\n",
       "OOS_INDICATOR                                                     N\n",
       "OOS_WEIGHT                                                      0.0\n",
       "SEVERITY_WEIGHT                                                 7.0\n",
       "TIME_WEIGHT                                                     1.0\n",
       "TOT_SEVERITY_WGHT                                               7.0\n",
       "VIOL_VALUE                                                      7.0\n",
       "SECTION_DESC         Failing to use seat belt while operating a CMV\n",
       "GROUP_DESC                                                Seat Belt\n",
       "VIOL_UNIT                                                         D\n",
       "Name: 0, dtype: object"
      ]
     },
     "execution_count": 169,
     "metadata": {},
     "output_type": "execute_result"
    }
   ],
   "source": [
    "df.iloc[0]"
   ]
  },
  {
   "cell_type": "code",
   "execution_count": null,
   "id": "ea5e9e74",
   "metadata": {},
   "outputs": [],
   "source": []
  },
  {
   "cell_type": "code",
   "execution_count": 130,
   "id": "0172482a",
   "metadata": {},
   "outputs": [
    {
     "data": {
      "text/plain": [
       "Index(['UNIQUE_ID', 'INSP_DATE', 'DOT_NUMBER', 'VIOL_CODE', 'BASIC_DESC',\n",
       "       'OOS_INDICATOR', 'OOS_WEIGHT', 'SEVERITY_WEIGHT', 'TIME_WEIGHT',\n",
       "       'TOT_SEVERITY_WGHT', 'VIOL_VALUE', 'SECTION_DESC', 'GROUP_DESC',\n",
       "       'VIOL_UNIT'],\n",
       "      dtype='object')"
      ]
     },
     "execution_count": 130,
     "metadata": {},
     "output_type": "execute_result"
    }
   ],
   "source": [
    "df.columns"
   ]
  },
  {
   "cell_type": "code",
   "execution_count": 131,
   "id": "ebce4dd5",
   "metadata": {},
   "outputs": [
    {
     "data": {
      "text/plain": [
       "14"
      ]
     },
     "execution_count": 131,
     "metadata": {},
     "output_type": "execute_result"
    }
   ],
   "source": [
    "df.shape[1]"
   ]
  },
  {
   "cell_type": "code",
   "execution_count": null,
   "id": "18e663aa",
   "metadata": {},
   "outputs": [],
   "source": []
  },
  {
   "cell_type": "code",
   "execution_count": null,
   "id": "0c37fe67",
   "metadata": {},
   "outputs": [],
   "source": [
    "# Write into CSV file\n",
    "df.to_csv(os.path.join(cleaned_folder_path,os.path.split(original_filepath)[-1].replace('.txt','.csv')),index=False)\n"
   ]
  },
  {
   "cell_type": "code",
   "execution_count": null,
   "id": "59c2b91c",
   "metadata": {},
   "outputs": [],
   "source": []
  },
  {
   "cell_type": "code",
   "execution_count": null,
   "id": "960f9d27",
   "metadata": {},
   "outputs": [],
   "source": [
    "import subprocess"
   ]
  },
  {
   "cell_type": "code",
   "execution_count": null,
   "id": "988e26a5",
   "metadata": {},
   "outputs": [],
   "source": []
  },
  {
   "cell_type": "markdown",
   "id": "ab8a144c",
   "metadata": {},
   "source": [
    "## Copying into postgres"
   ]
  },
  {
   "cell_type": "code",
   "execution_count": null,
   "id": "05f38927",
   "metadata": {},
   "outputs": [],
   "source": [
    "\\copy crash FROM 'C:\\\\Users\\Munira\\Desktop\\demo-pipeline\\raw_data\\CleanedData\\2022Aug_Crash.csv' WITH (FORMAT CSV, DELIMITER ',',HEADER);\n",
    "\n",
    "\\copy inspection FROM 'C:\\\\Users\\Munira\\Desktop\\demo-pipeline\\raw_data\\CleanedData\\2022Aug_Inspection.csv' WITH (FORMAT CSV, DELIMITER ',',HEADER);"
   ]
  },
  {
   "cell_type": "code",
   "execution_count": null,
   "id": "a8792953",
   "metadata": {},
   "outputs": [],
   "source": [
    "conn,cursor=connect_to_db('staging','aculocity')\n",
    "\n",
    "cursor.execute(sql)\n",
    "conn.commit()"
   ]
  },
  {
   "cell_type": "code",
   "execution_count": 147,
   "id": "a0d08be1",
   "metadata": {},
   "outputs": [],
   "source": []
  },
  {
   "cell_type": "code",
   "execution_count": 148,
   "id": "62940628",
   "metadata": {},
   "outputs": [
    {
     "ename": "FileNotFoundError",
     "evalue": "[WinError 2] The system cannot find the file specified",
     "output_type": "error",
     "traceback": [
      "\u001b[1;31m---------------------------------------------------------------------------\u001b[0m",
      "\u001b[1;31mFileNotFoundError\u001b[0m                         Traceback (most recent call last)",
      "Input \u001b[1;32mIn [148]\u001b[0m, in \u001b[0;36m<cell line: 1>\u001b[1;34m()\u001b[0m\n\u001b[1;32m----> 1\u001b[0m \u001b[43msubprocess\u001b[49m\u001b[38;5;241;43m.\u001b[39;49m\u001b[43mrun\u001b[49m\u001b[43m(\u001b[49m\u001b[43msql\u001b[49m\u001b[43m)\u001b[49m\n",
      "File \u001b[1;32mc:\\users\\munira\\appdata\\local\\programs\\python\\python39\\lib\\subprocess.py:505\u001b[0m, in \u001b[0;36mrun\u001b[1;34m(input, capture_output, timeout, check, *popenargs, **kwargs)\u001b[0m\n\u001b[0;32m    502\u001b[0m     kwargs[\u001b[38;5;124m'\u001b[39m\u001b[38;5;124mstdout\u001b[39m\u001b[38;5;124m'\u001b[39m] \u001b[38;5;241m=\u001b[39m PIPE\n\u001b[0;32m    503\u001b[0m     kwargs[\u001b[38;5;124m'\u001b[39m\u001b[38;5;124mstderr\u001b[39m\u001b[38;5;124m'\u001b[39m] \u001b[38;5;241m=\u001b[39m PIPE\n\u001b[1;32m--> 505\u001b[0m \u001b[38;5;28;01mwith\u001b[39;00m Popen(\u001b[38;5;241m*\u001b[39mpopenargs, \u001b[38;5;241m*\u001b[39m\u001b[38;5;241m*\u001b[39mkwargs) \u001b[38;5;28;01mas\u001b[39;00m process:\n\u001b[0;32m    506\u001b[0m     \u001b[38;5;28;01mtry\u001b[39;00m:\n\u001b[0;32m    507\u001b[0m         stdout, stderr \u001b[38;5;241m=\u001b[39m process\u001b[38;5;241m.\u001b[39mcommunicate(\u001b[38;5;28minput\u001b[39m, timeout\u001b[38;5;241m=\u001b[39mtimeout)\n",
      "File \u001b[1;32mc:\\users\\munira\\appdata\\local\\programs\\python\\python39\\lib\\subprocess.py:951\u001b[0m, in \u001b[0;36mPopen.__init__\u001b[1;34m(self, args, bufsize, executable, stdin, stdout, stderr, preexec_fn, close_fds, shell, cwd, env, universal_newlines, startupinfo, creationflags, restore_signals, start_new_session, pass_fds, user, group, extra_groups, encoding, errors, text, umask)\u001b[0m\n\u001b[0;32m    947\u001b[0m         \u001b[38;5;28;01mif\u001b[39;00m \u001b[38;5;28mself\u001b[39m\u001b[38;5;241m.\u001b[39mtext_mode:\n\u001b[0;32m    948\u001b[0m             \u001b[38;5;28mself\u001b[39m\u001b[38;5;241m.\u001b[39mstderr \u001b[38;5;241m=\u001b[39m io\u001b[38;5;241m.\u001b[39mTextIOWrapper(\u001b[38;5;28mself\u001b[39m\u001b[38;5;241m.\u001b[39mstderr,\n\u001b[0;32m    949\u001b[0m                     encoding\u001b[38;5;241m=\u001b[39mencoding, errors\u001b[38;5;241m=\u001b[39merrors)\n\u001b[1;32m--> 951\u001b[0m     \u001b[38;5;28;43mself\u001b[39;49m\u001b[38;5;241;43m.\u001b[39;49m\u001b[43m_execute_child\u001b[49m\u001b[43m(\u001b[49m\u001b[43margs\u001b[49m\u001b[43m,\u001b[49m\u001b[43m \u001b[49m\u001b[43mexecutable\u001b[49m\u001b[43m,\u001b[49m\u001b[43m \u001b[49m\u001b[43mpreexec_fn\u001b[49m\u001b[43m,\u001b[49m\u001b[43m \u001b[49m\u001b[43mclose_fds\u001b[49m\u001b[43m,\u001b[49m\n\u001b[0;32m    952\u001b[0m \u001b[43m                        \u001b[49m\u001b[43mpass_fds\u001b[49m\u001b[43m,\u001b[49m\u001b[43m \u001b[49m\u001b[43mcwd\u001b[49m\u001b[43m,\u001b[49m\u001b[43m \u001b[49m\u001b[43menv\u001b[49m\u001b[43m,\u001b[49m\n\u001b[0;32m    953\u001b[0m \u001b[43m                        \u001b[49m\u001b[43mstartupinfo\u001b[49m\u001b[43m,\u001b[49m\u001b[43m \u001b[49m\u001b[43mcreationflags\u001b[49m\u001b[43m,\u001b[49m\u001b[43m \u001b[49m\u001b[43mshell\u001b[49m\u001b[43m,\u001b[49m\n\u001b[0;32m    954\u001b[0m \u001b[43m                        \u001b[49m\u001b[43mp2cread\u001b[49m\u001b[43m,\u001b[49m\u001b[43m \u001b[49m\u001b[43mp2cwrite\u001b[49m\u001b[43m,\u001b[49m\n\u001b[0;32m    955\u001b[0m \u001b[43m                        \u001b[49m\u001b[43mc2pread\u001b[49m\u001b[43m,\u001b[49m\u001b[43m \u001b[49m\u001b[43mc2pwrite\u001b[49m\u001b[43m,\u001b[49m\n\u001b[0;32m    956\u001b[0m \u001b[43m                        \u001b[49m\u001b[43merrread\u001b[49m\u001b[43m,\u001b[49m\u001b[43m \u001b[49m\u001b[43merrwrite\u001b[49m\u001b[43m,\u001b[49m\n\u001b[0;32m    957\u001b[0m \u001b[43m                        \u001b[49m\u001b[43mrestore_signals\u001b[49m\u001b[43m,\u001b[49m\n\u001b[0;32m    958\u001b[0m \u001b[43m                        \u001b[49m\u001b[43mgid\u001b[49m\u001b[43m,\u001b[49m\u001b[43m \u001b[49m\u001b[43mgids\u001b[49m\u001b[43m,\u001b[49m\u001b[43m \u001b[49m\u001b[43muid\u001b[49m\u001b[43m,\u001b[49m\u001b[43m \u001b[49m\u001b[43mumask\u001b[49m\u001b[43m,\u001b[49m\n\u001b[0;32m    959\u001b[0m \u001b[43m                        \u001b[49m\u001b[43mstart_new_session\u001b[49m\u001b[43m)\u001b[49m\n\u001b[0;32m    960\u001b[0m \u001b[38;5;28;01mexcept\u001b[39;00m:\n\u001b[0;32m    961\u001b[0m     \u001b[38;5;66;03m# Cleanup if the child failed starting.\u001b[39;00m\n\u001b[0;32m    962\u001b[0m     \u001b[38;5;28;01mfor\u001b[39;00m f \u001b[38;5;129;01min\u001b[39;00m \u001b[38;5;28mfilter\u001b[39m(\u001b[38;5;28;01mNone\u001b[39;00m, (\u001b[38;5;28mself\u001b[39m\u001b[38;5;241m.\u001b[39mstdin, \u001b[38;5;28mself\u001b[39m\u001b[38;5;241m.\u001b[39mstdout, \u001b[38;5;28mself\u001b[39m\u001b[38;5;241m.\u001b[39mstderr)):\n",
      "File \u001b[1;32mc:\\users\\munira\\appdata\\local\\programs\\python\\python39\\lib\\subprocess.py:1420\u001b[0m, in \u001b[0;36mPopen._execute_child\u001b[1;34m(self, args, executable, preexec_fn, close_fds, pass_fds, cwd, env, startupinfo, creationflags, shell, p2cread, p2cwrite, c2pread, c2pwrite, errread, errwrite, unused_restore_signals, unused_gid, unused_gids, unused_uid, unused_umask, unused_start_new_session)\u001b[0m\n\u001b[0;32m   1418\u001b[0m \u001b[38;5;66;03m# Start the process\u001b[39;00m\n\u001b[0;32m   1419\u001b[0m \u001b[38;5;28;01mtry\u001b[39;00m:\n\u001b[1;32m-> 1420\u001b[0m     hp, ht, pid, tid \u001b[38;5;241m=\u001b[39m \u001b[43m_winapi\u001b[49m\u001b[38;5;241;43m.\u001b[39;49m\u001b[43mCreateProcess\u001b[49m\u001b[43m(\u001b[49m\u001b[43mexecutable\u001b[49m\u001b[43m,\u001b[49m\u001b[43m \u001b[49m\u001b[43margs\u001b[49m\u001b[43m,\u001b[49m\n\u001b[0;32m   1421\u001b[0m \u001b[43m                             \u001b[49m\u001b[38;5;66;43;03m# no special security\u001b[39;49;00m\n\u001b[0;32m   1422\u001b[0m \u001b[43m                             \u001b[49m\u001b[38;5;28;43;01mNone\u001b[39;49;00m\u001b[43m,\u001b[49m\u001b[43m \u001b[49m\u001b[38;5;28;43;01mNone\u001b[39;49;00m\u001b[43m,\u001b[49m\n\u001b[0;32m   1423\u001b[0m \u001b[43m                             \u001b[49m\u001b[38;5;28;43mint\u001b[39;49m\u001b[43m(\u001b[49m\u001b[38;5;129;43;01mnot\u001b[39;49;00m\u001b[43m \u001b[49m\u001b[43mclose_fds\u001b[49m\u001b[43m)\u001b[49m\u001b[43m,\u001b[49m\n\u001b[0;32m   1424\u001b[0m \u001b[43m                             \u001b[49m\u001b[43mcreationflags\u001b[49m\u001b[43m,\u001b[49m\n\u001b[0;32m   1425\u001b[0m \u001b[43m                             \u001b[49m\u001b[43menv\u001b[49m\u001b[43m,\u001b[49m\n\u001b[0;32m   1426\u001b[0m \u001b[43m                             \u001b[49m\u001b[43mcwd\u001b[49m\u001b[43m,\u001b[49m\n\u001b[0;32m   1427\u001b[0m \u001b[43m                             \u001b[49m\u001b[43mstartupinfo\u001b[49m\u001b[43m)\u001b[49m\n\u001b[0;32m   1428\u001b[0m \u001b[38;5;28;01mfinally\u001b[39;00m:\n\u001b[0;32m   1429\u001b[0m     \u001b[38;5;66;03m# Child is launched. Close the parent's copy of those pipe\u001b[39;00m\n\u001b[0;32m   1430\u001b[0m     \u001b[38;5;66;03m# handles that only the child should have open.  You need\u001b[39;00m\n\u001b[1;32m   (...)\u001b[0m\n\u001b[0;32m   1433\u001b[0m     \u001b[38;5;66;03m# pipe will not close when the child process exits and the\u001b[39;00m\n\u001b[0;32m   1434\u001b[0m     \u001b[38;5;66;03m# ReadFile will hang.\u001b[39;00m\n\u001b[0;32m   1435\u001b[0m     \u001b[38;5;28mself\u001b[39m\u001b[38;5;241m.\u001b[39m_close_pipe_fds(p2cread, p2cwrite,\n\u001b[0;32m   1436\u001b[0m                          c2pread, c2pwrite,\n\u001b[0;32m   1437\u001b[0m                          errread, errwrite)\n",
      "\u001b[1;31mFileNotFoundError\u001b[0m: [WinError 2] The system cannot find the file specified"
     ]
    }
   ],
   "source": [
    "subprocess.run(sql)"
   ]
  },
  {
   "cell_type": "markdown",
   "id": "6832f3cd",
   "metadata": {},
   "source": [
    "# Creating tables"
   ]
  },
  {
   "cell_type": "code",
   "execution_count": null,
   "id": "93c86d31",
   "metadata": {},
   "outputs": [],
   "source": [
    "import psycopg2\n",
    "\n",
    "def connect_to_db(db_name,password):\n",
    "    conn = psycopg2.connect(f\"dbname={db_name} user=dataengineer host='mydb.cb7sygkkbh0u.us-east-2.rds.amazonaws.com' port=5432 password={password}\")\n",
    "    cur = conn.cursor()\n",
    "    return conn,cur\n",
    "\n",
    "sql_list=[]\n",
    "\n",
    "crash_sql='''\n",
    "CREATE TABLE crash (\n",
    "  Report_number VARCHAR(50) NOT NULL,\n",
    "  Report_seq_no REAL NOT NULL,\n",
    "  DOT_Number VARCHAR(50),\n",
    "  Report_Date DATE,\n",
    "  Report_State CHAR(2),\n",
    "  Fatalities REAL,\n",
    "  Injuries REAL,\n",
    "  Tow_Away CHAR(1),\n",
    "  Hazmat_released CHAR(1),\n",
    "  Trafficway_Desc VARCHAR(255),\n",
    "  Access_Control_Desc VARCHAR(255),\n",
    "  Road_surface_Condition_Desc VARCHAR(255),\n",
    "  Weather_Condition_Desc VARCHAR(255),\n",
    "  Light_Condition_Desc VARCHAR(255),\n",
    "  Vehicle_ID_Number VARCHAR(50),\n",
    "  Vehicle_License_number VARCHAR(50),\n",
    "  Vehicle_license_state CHAR(2),\n",
    "  Severity_Weight REAL,\n",
    "  Time_weight REAL,\n",
    "  citation_issued_desc VARCHAR(255),\n",
    "  seq_num REAL,\n",
    "  Not_Preventable CHAR(1)\n",
    ");\n",
    "'''\n",
    "\n",
    "sql_list.append(crash_sql)\n",
    "\n",
    "inspection_sql = '''\n",
    "CREATE TABLE inspection (\n",
    "  Unique_ID FLOAT PRIMARY KEY,\n",
    "  Report_Number VARCHAR(255)  NOT NULL,\n",
    "  Report_State VARCHAR(2) ,\n",
    "  DOT_Number VARCHAR(255) NOT NULL,\n",
    "  Insp_Date DATE NOT NULL,\n",
    "  Insp_level_ID FLOAT NOT NULL,\n",
    "  County_code_State VARCHAR(2) NOT NULL,\n",
    "  Time_Weight FLOAT NOT NULL,\n",
    "  Driver_OOS_Total FLOAT ,\n",
    "  Vehicle_OOS_Total FLOAT,\n",
    "  Total_Hazmat_Sent FLOAT ,\n",
    "  OOS_Total FLOAT,\n",
    "  Hazmat_OOS_Total FLOAT,\n",
    "  Hazmat_Placard_req CHAR(1) ,\n",
    "  Unit_Type_Desc VARCHAR(255),\n",
    "  Unit_Make VARCHAR(255) ,\n",
    "  Unit_License VARCHAR(255) ,\n",
    "  Unit_License_State VARCHAR(2),\n",
    "  VIN VARCHAR(255) ,\n",
    "  Unit_Decal_Number VARCHAR(255) ,\n",
    "  Unit_Type_Desc2 VARCHAR(255),\n",
    "  Unit_Make2 VARCHAR(255),\n",
    "  Unit_License2 VARCHAR(255),\n",
    "  Unit_License_State2 VARCHAR(2),\n",
    "  VIN2 VARCHAR(255),\n",
    "  Unit_Decal_Number2 VARCHAR(255),\n",
    "  Unsafe_Insp CHAR(1) ,\n",
    "  Fatigued_Insp CHAR(1) ,\n",
    "  Dr_Fitness_Insp CHAR(1) ,\n",
    "  Subt_Alcohol_Insp CHAR(1),\n",
    "  Vh_Maint_Insp CHAR(1),\n",
    "  HM_Insp CHAR(1) ,\n",
    "  BASIC_Viol FLOAT ,\n",
    "  Unsafe_Viol FLOAT,\n",
    "  Fatigued_Viol FLOAT,\n",
    "  Dr_Fitness_Viol FLOAT,\n",
    "  Subt_Alcohol_Viol FLOAT,\n",
    "  Vh_Maint_Viol FLOAT ,\n",
    "  HM_Viol FLOAT \n",
    ");\n",
    "'''\n",
    "\n",
    "sql_list.append(inspection_sql)\n",
    "\n",
    "violation_sql = '''CREATE TABLE violation (\n",
    "    Unique_ID FLOAT PRIMARY KEY,\n",
    "    Insp_Date DATE NOT NULL,\n",
    "    DOT_Number VARCHAR(50) NOT NULL,\n",
    "    Viol_Code VARCHAR(50) NOT NULL,\n",
    "    BASIC_Desc VARCHAR(50) ,\n",
    "    OOS_Indicator CHAR(1),\n",
    "    OOS_Weight REAL,\n",
    "    Severity_Weight FLOAT,\n",
    "    Time_Weight REAL,\n",
    "    Total_Severity_Wght FLOAT,\n",
    "    Section_Desc VARCHAR(200) ,\n",
    "    Group_Desc VARCHAR(200),\n",
    "    Viol_Unit CHAR(2)\n",
    ");'''\n",
    "\n",
    "sql_list.append(violation_sql)\n",
    "\n",
    "census_sql = '''CREATE TABLE census (\n",
    "    DOT_NUMBER TEXT PRIMARY KEY,\n",
    "    LEGAL_NAME TEXT,\n",
    "    DBA_NAME TEXT,\n",
    "    CARRIER_OPERATION TEXT,\n",
    "    HM_FLAG TEXT,\n",
    "    PC_FLAG TEXT,\n",
    "    PHY_STREET TEXT,\n",
    "    PHY_CITY TEXT,\n",
    "    PHY_STATE TEXT,\n",
    "    PHY_ZIP TEXT,\n",
    "    PHY_COUNTRY TEXT,\n",
    "    MAILING_STREET TEXT,\n",
    "    MAILING_CITY TEXT,\n",
    "    MAILING_STATE TEXT,\n",
    "    MAILING_ZIP TEXT,\n",
    "    MAILING_COUNTRY TEXT,\n",
    "    TELEPHONE TEXT,\n",
    "    FAX TEXT,\n",
    "    EMAIL_ADDRESS TEXT,\n",
    "    MCS150_DATE DATE,\n",
    "    MCS150_MILEAGE NUMERIC,\n",
    "    MCS150_MILEAGE_YEAR FLOAT,\n",
    "    ADD_DATE DATE,\n",
    "    OIC_STATE TEXT,\n",
    "    NBR_POWER_UNIT FLOAT,\n",
    "    DRIVER_TOTAL FLOAT,\n",
    "    RECENT_MILEAGE NUMERIC,\n",
    "    RECENT_MILEAGE_YEAR FLOAT,\n",
    "    VMT_SOURCE_ID FLOAT\n",
    ");\n",
    "'''\n",
    "\n",
    "sql_list.append(census_sql)"
   ]
  },
  {
   "cell_type": "code",
   "execution_count": 175,
   "id": "57522005",
   "metadata": {},
   "outputs": [],
   "source": [
    "conn,cursor=connect_to_db('staging','aculocity')\n",
    "\n",
    "cursor.execute(violation_sql)\n",
    "conn.commit()"
   ]
  },
  {
   "cell_type": "code",
   "execution_count": 176,
   "id": "83be0e51",
   "metadata": {},
   "outputs": [],
   "source": [
    "cursor.close()\n",
    "conn.close()"
   ]
  },
  {
   "cell_type": "code",
   "execution_count": null,
   "id": "dc32dc19",
   "metadata": {},
   "outputs": [],
   "source": []
  }
 ],
 "metadata": {
  "kernelspec": {
   "display_name": "Python 3 (ipykernel)",
   "language": "python",
   "name": "python3"
  },
  "language_info": {
   "codemirror_mode": {
    "name": "ipython",
    "version": 3
   },
   "file_extension": ".py",
   "mimetype": "text/x-python",
   "name": "python",
   "nbconvert_exporter": "python",
   "pygments_lexer": "ipython3",
   "version": "3.9.6"
  }
 },
 "nbformat": 4,
 "nbformat_minor": 5
}
