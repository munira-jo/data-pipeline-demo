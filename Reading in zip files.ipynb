{
 "cells": [
  {
   "cell_type": "code",
   "execution_count": 219,
   "id": "1c9c1fd9",
   "metadata": {},
   "outputs": [],
   "source": [
    "import psycopg2\n",
    "from zipfile import ZipFile\n",
    "import pandas as pd\n",
    "import os\n",
    "from io import StringIO\n",
    "import numpy as np\n",
    "import shutil\n",
    "\n",
    "zipped_folder=os.path.join('C:\\\\Users\\\\Munira\\\\Desktop\\\\demo-pipeline','zipped_raw_data')\n",
    "\n",
    "unzipped_folder=os.path.join('C:\\\\Users\\\\Munira\\\\Desktop\\\\demo-pipeline','raw_data')\n",
    "\n",
    "def connect_to_db(db_name,password):\n",
    "    conn = psycopg2.connect(f\"dbname={db_name} user=dataengineer host='mydb.cb7sygkkbh0u.us-east-2.rds.amazonaws.com' port=5432 password={password}\")\n",
    "    cur = conn.cursor()\n",
    "    return conn,cur\n",
    "\n"
   ]
  },
  {
   "cell_type": "markdown",
   "id": "867dce5f",
   "metadata": {},
   "source": [
    "## Modifying raw data files"
   ]
  },
  {
   "cell_type": "code",
   "execution_count": 60,
   "id": "e1ea4488",
   "metadata": {},
   "outputs": [],
   "source": [
    "os.mkdir(os.path.join(unzipped_folder,'CleanedData'))"
   ]
  },
  {
   "cell_type": "code",
   "execution_count": 90,
   "id": "fdd8c35d",
   "metadata": {},
   "outputs": [
    {
     "data": {
      "text/plain": [
       "'CleanedData'"
      ]
     },
     "execution_count": 90,
     "metadata": {},
     "output_type": "execute_result"
    }
   ],
   "source": [
    "os.path.join(unzipped_folder,'CleanedData').split('\\\\')[-1]"
   ]
  },
  {
   "cell_type": "code",
   "execution_count": 149,
   "id": "adb811dc",
   "metadata": {},
   "outputs": [],
   "source": [
    "def clean_raw_data_files(original_filepath,cleaned_folder_path):\n",
    "\n",
    "    df=pd.read_csv(original_filepath,encoding='cp1252')\n",
    "\n",
    "    # Remove rows where all values are missing\n",
    "    df=df.dropna(how='all')\n",
    "\n",
    "    # Replacing empty strings for float columns with nans\n",
    "    num_cols = [col for col in df.columns if df[col].dtype in ['float64','int64']]\n",
    "    for col in num_cols:\n",
    "        df[col]=df[col].fillna(np.nan)\n",
    "        df.loc[df[col]=='',col]=np.nan\n",
    "\n",
    "    # Replacing nulls with empty strings for text columns\n",
    "    cols=[col for col in df.columns if df[col].dtype=='O']\n",
    "    for col in cols:\n",
    "        df[col]=df[col].fillna('')\n",
    "\n",
    "    # Write into CSV file\n",
    "    df.to_csv(os.path.join(cleaned_folder_path,os.path.split(original_filepath)[-1].replace('.txt','.csv')),index=False)\n"
   ]
  },
  {
   "cell_type": "code",
   "execution_count": null,
   "id": "f36d20ac",
   "metadata": {},
   "outputs": [],
   "source": []
  },
  {
   "cell_type": "code",
   "execution_count": 220,
   "id": "db58b252",
   "metadata": {},
   "outputs": [],
   "source": [
    "original_filepath=os.path.join(unzipped_folder,'DataFiles','2022Aug_Violation.txt')"
   ]
  },
  {
   "cell_type": "code",
   "execution_count": 221,
   "id": "fc5161b4",
   "metadata": {},
   "outputs": [],
   "source": [
    "cleaned_folder_path=os.path.join(unzipped_folder,'CleanedData')"
   ]
  },
  {
   "cell_type": "code",
   "execution_count": 222,
   "id": "4797ad94",
   "metadata": {},
   "outputs": [
    {
     "ename": "ParserError",
     "evalue": "Error tokenizing data. C error: Calling read(nbytes) on source failed. Try engine='python'.",
     "output_type": "error",
     "traceback": [
      "\u001b[1;31m---------------------------------------------------------------------------\u001b[0m",
      "\u001b[1;31mParserError\u001b[0m                               Traceback (most recent call last)",
      "Input \u001b[1;32mIn [222]\u001b[0m, in \u001b[0;36m<cell line: 1>\u001b[1;34m()\u001b[0m\n\u001b[1;32m----> 1\u001b[0m \u001b[43mclean_raw_data_files\u001b[49m\u001b[43m(\u001b[49m\u001b[43moriginal_filepath\u001b[49m\u001b[43m,\u001b[49m\u001b[43mcleaned_folder_path\u001b[49m\u001b[43m)\u001b[49m\n",
      "Input \u001b[1;32mIn [149]\u001b[0m, in \u001b[0;36mclean_raw_data_files\u001b[1;34m(original_filepath, cleaned_folder_path)\u001b[0m\n\u001b[0;32m      1\u001b[0m \u001b[38;5;28;01mdef\u001b[39;00m \u001b[38;5;21mclean_raw_data_files\u001b[39m(original_filepath,cleaned_folder_path):\n\u001b[1;32m----> 3\u001b[0m     df\u001b[38;5;241m=\u001b[39m\u001b[43mpd\u001b[49m\u001b[38;5;241;43m.\u001b[39;49m\u001b[43mread_csv\u001b[49m\u001b[43m(\u001b[49m\u001b[43moriginal_filepath\u001b[49m\u001b[43m,\u001b[49m\u001b[43mencoding\u001b[49m\u001b[38;5;241;43m=\u001b[39;49m\u001b[38;5;124;43m'\u001b[39;49m\u001b[38;5;124;43mcp1252\u001b[39;49m\u001b[38;5;124;43m'\u001b[39;49m\u001b[43m)\u001b[49m\n\u001b[0;32m      5\u001b[0m     \u001b[38;5;66;03m# Remove rows where all values are missing\u001b[39;00m\n\u001b[0;32m      6\u001b[0m     df\u001b[38;5;241m=\u001b[39mdf\u001b[38;5;241m.\u001b[39mdropna(how\u001b[38;5;241m=\u001b[39m\u001b[38;5;124m'\u001b[39m\u001b[38;5;124mall\u001b[39m\u001b[38;5;124m'\u001b[39m)\n",
      "File \u001b[1;32mc:\\users\\munira\\appdata\\local\\programs\\python\\python39\\lib\\site-packages\\pandas\\io\\parsers\\readers.py:912\u001b[0m, in \u001b[0;36mread_csv\u001b[1;34m(filepath_or_buffer, sep, delimiter, header, names, index_col, usecols, dtype, engine, converters, true_values, false_values, skipinitialspace, skiprows, skipfooter, nrows, na_values, keep_default_na, na_filter, verbose, skip_blank_lines, parse_dates, infer_datetime_format, keep_date_col, date_parser, date_format, dayfirst, cache_dates, iterator, chunksize, compression, thousands, decimal, lineterminator, quotechar, quoting, doublequote, escapechar, comment, encoding, encoding_errors, dialect, on_bad_lines, delim_whitespace, low_memory, memory_map, float_precision, storage_options, dtype_backend)\u001b[0m\n\u001b[0;32m    899\u001b[0m kwds_defaults \u001b[38;5;241m=\u001b[39m _refine_defaults_read(\n\u001b[0;32m    900\u001b[0m     dialect,\n\u001b[0;32m    901\u001b[0m     delimiter,\n\u001b[1;32m   (...)\u001b[0m\n\u001b[0;32m    908\u001b[0m     dtype_backend\u001b[38;5;241m=\u001b[39mdtype_backend,\n\u001b[0;32m    909\u001b[0m )\n\u001b[0;32m    910\u001b[0m kwds\u001b[38;5;241m.\u001b[39mupdate(kwds_defaults)\n\u001b[1;32m--> 912\u001b[0m \u001b[38;5;28;01mreturn\u001b[39;00m \u001b[43m_read\u001b[49m\u001b[43m(\u001b[49m\u001b[43mfilepath_or_buffer\u001b[49m\u001b[43m,\u001b[49m\u001b[43m \u001b[49m\u001b[43mkwds\u001b[49m\u001b[43m)\u001b[49m\n",
      "File \u001b[1;32mc:\\users\\munira\\appdata\\local\\programs\\python\\python39\\lib\\site-packages\\pandas\\io\\parsers\\readers.py:583\u001b[0m, in \u001b[0;36m_read\u001b[1;34m(filepath_or_buffer, kwds)\u001b[0m\n\u001b[0;32m    580\u001b[0m     \u001b[38;5;28;01mreturn\u001b[39;00m parser\n\u001b[0;32m    582\u001b[0m \u001b[38;5;28;01mwith\u001b[39;00m parser:\n\u001b[1;32m--> 583\u001b[0m     \u001b[38;5;28;01mreturn\u001b[39;00m \u001b[43mparser\u001b[49m\u001b[38;5;241;43m.\u001b[39;49m\u001b[43mread\u001b[49m\u001b[43m(\u001b[49m\u001b[43mnrows\u001b[49m\u001b[43m)\u001b[49m\n",
      "File \u001b[1;32mc:\\users\\munira\\appdata\\local\\programs\\python\\python39\\lib\\site-packages\\pandas\\io\\parsers\\readers.py:1704\u001b[0m, in \u001b[0;36mTextFileReader.read\u001b[1;34m(self, nrows)\u001b[0m\n\u001b[0;32m   1697\u001b[0m nrows \u001b[38;5;241m=\u001b[39m validate_integer(\u001b[38;5;124m\"\u001b[39m\u001b[38;5;124mnrows\u001b[39m\u001b[38;5;124m\"\u001b[39m, nrows)\n\u001b[0;32m   1698\u001b[0m \u001b[38;5;28;01mtry\u001b[39;00m:\n\u001b[0;32m   1699\u001b[0m     \u001b[38;5;66;03m# error: \"ParserBase\" has no attribute \"read\"\u001b[39;00m\n\u001b[0;32m   1700\u001b[0m     (\n\u001b[0;32m   1701\u001b[0m         index,\n\u001b[0;32m   1702\u001b[0m         columns,\n\u001b[0;32m   1703\u001b[0m         col_dict,\n\u001b[1;32m-> 1704\u001b[0m     ) \u001b[38;5;241m=\u001b[39m \u001b[38;5;28;43mself\u001b[39;49m\u001b[38;5;241;43m.\u001b[39;49m\u001b[43m_engine\u001b[49m\u001b[38;5;241;43m.\u001b[39;49m\u001b[43mread\u001b[49m\u001b[43m(\u001b[49m\u001b[43m  \u001b[49m\u001b[38;5;66;43;03m# type: ignore[attr-defined]\u001b[39;49;00m\n\u001b[0;32m   1705\u001b[0m \u001b[43m        \u001b[49m\u001b[43mnrows\u001b[49m\n\u001b[0;32m   1706\u001b[0m \u001b[43m    \u001b[49m\u001b[43m)\u001b[49m\n\u001b[0;32m   1707\u001b[0m \u001b[38;5;28;01mexcept\u001b[39;00m \u001b[38;5;167;01mException\u001b[39;00m:\n\u001b[0;32m   1708\u001b[0m     \u001b[38;5;28mself\u001b[39m\u001b[38;5;241m.\u001b[39mclose()\n",
      "File \u001b[1;32mc:\\users\\munira\\appdata\\local\\programs\\python\\python39\\lib\\site-packages\\pandas\\io\\parsers\\c_parser_wrapper.py:234\u001b[0m, in \u001b[0;36mCParserWrapper.read\u001b[1;34m(self, nrows)\u001b[0m\n\u001b[0;32m    232\u001b[0m \u001b[38;5;28;01mtry\u001b[39;00m:\n\u001b[0;32m    233\u001b[0m     \u001b[38;5;28;01mif\u001b[39;00m \u001b[38;5;28mself\u001b[39m\u001b[38;5;241m.\u001b[39mlow_memory:\n\u001b[1;32m--> 234\u001b[0m         chunks \u001b[38;5;241m=\u001b[39m \u001b[38;5;28;43mself\u001b[39;49m\u001b[38;5;241;43m.\u001b[39;49m\u001b[43m_reader\u001b[49m\u001b[38;5;241;43m.\u001b[39;49m\u001b[43mread_low_memory\u001b[49m\u001b[43m(\u001b[49m\u001b[43mnrows\u001b[49m\u001b[43m)\u001b[49m\n\u001b[0;32m    235\u001b[0m         \u001b[38;5;66;03m# destructive to chunks\u001b[39;00m\n\u001b[0;32m    236\u001b[0m         data \u001b[38;5;241m=\u001b[39m _concatenate_chunks(chunks)\n",
      "File \u001b[1;32mc:\\users\\munira\\appdata\\local\\programs\\python\\python39\\lib\\site-packages\\pandas\\_libs\\parsers.pyx:812\u001b[0m, in \u001b[0;36mpandas._libs.parsers.TextReader.read_low_memory\u001b[1;34m()\u001b[0m\n",
      "File \u001b[1;32mc:\\users\\munira\\appdata\\local\\programs\\python\\python39\\lib\\site-packages\\pandas\\_libs\\parsers.pyx:873\u001b[0m, in \u001b[0;36mpandas._libs.parsers.TextReader._read_rows\u001b[1;34m()\u001b[0m\n",
      "File \u001b[1;32mc:\\users\\munira\\appdata\\local\\programs\\python\\python39\\lib\\site-packages\\pandas\\_libs\\parsers.pyx:848\u001b[0m, in \u001b[0;36mpandas._libs.parsers.TextReader._tokenize_rows\u001b[1;34m()\u001b[0m\n",
      "File \u001b[1;32mc:\\users\\munira\\appdata\\local\\programs\\python\\python39\\lib\\site-packages\\pandas\\_libs\\parsers.pyx:859\u001b[0m, in \u001b[0;36mpandas._libs.parsers.TextReader._check_tokenize_status\u001b[1;34m()\u001b[0m\n",
      "File \u001b[1;32mc:\\users\\munira\\appdata\\local\\programs\\python\\python39\\lib\\site-packages\\pandas\\_libs\\parsers.pyx:2025\u001b[0m, in \u001b[0;36mpandas._libs.parsers.raise_parser_error\u001b[1;34m()\u001b[0m\n",
      "\u001b[1;31mParserError\u001b[0m: Error tokenizing data. C error: Calling read(nbytes) on source failed. Try engine='python'."
     ]
    }
   ],
   "source": [
    "clean_raw_data_files(original_filepath,cleaned_folder_path)"
   ]
  },
  {
   "cell_type": "code",
   "execution_count": 223,
   "id": "4d038771",
   "metadata": {},
   "outputs": [],
   "source": [
    "df=pd.read_csv(original_filepath,encoding='cp1252')\n",
    "\n",
    "# Remove rows where all values are missing\n",
    "df=df.dropna(how='all')\n",
    "\n",
    "# Replacing empty strings for float columns with nans\n",
    "num_cols = [col for col in df.columns if df[col].dtype in ['float64','int64']]\n",
    "for col in num_cols:\n",
    "    df[col]=df[col].fillna(np.nan)\n",
    "    df.loc[df[col]=='',col]=np.nan\n",
    "\n",
    "# Replacing nulls with empty strings for text columns\n",
    "cols=[col for col in df.columns if df[col].dtype=='O']\n",
    "for col in cols:\n",
    "    df[col]=df[col].fillna('')\n",
    "\n"
   ]
  },
  {
   "cell_type": "code",
   "execution_count": 234,
   "id": "ba810df9",
   "metadata": {},
   "outputs": [
    {
     "data": {
      "text/html": [
       "<div>\n",
       "<style scoped>\n",
       "    .dataframe tbody tr th:only-of-type {\n",
       "        vertical-align: middle;\n",
       "    }\n",
       "\n",
       "    .dataframe tbody tr th {\n",
       "        vertical-align: top;\n",
       "    }\n",
       "\n",
       "    .dataframe thead th {\n",
       "        text-align: right;\n",
       "    }\n",
       "</style>\n",
       "<table border=\"1\" class=\"dataframe\">\n",
       "  <thead>\n",
       "    <tr style=\"text-align: right;\">\n",
       "      <th></th>\n",
       "      <th>UNIQUE_ID</th>\n",
       "      <th>INSP_DATE</th>\n",
       "      <th>DOT_NUMBER</th>\n",
       "      <th>VIOL_CODE</th>\n",
       "      <th>BASIC_DESC</th>\n",
       "      <th>OOS_INDICATOR</th>\n",
       "      <th>OOS_WEIGHT</th>\n",
       "      <th>SEVERITY_WEIGHT</th>\n",
       "      <th>TIME_WEIGHT</th>\n",
       "      <th>TOT_SEVERITY_WGHT</th>\n",
       "      <th>VIOL_VALUE</th>\n",
       "      <th>SECTION_DESC</th>\n",
       "      <th>GROUP_DESC</th>\n",
       "      <th>VIOL_UNIT</th>\n",
       "    </tr>\n",
       "  </thead>\n",
       "  <tbody>\n",
       "    <tr>\n",
       "      <th>0</th>\n",
       "      <td>635384790.0</td>\n",
       "      <td>26-AUG-20</td>\n",
       "      <td>2582962.0</td>\n",
       "      <td>39216</td>\n",
       "      <td>Unsafe Driving</td>\n",
       "      <td>N</td>\n",
       "      <td>0.0</td>\n",
       "      <td>7.0</td>\n",
       "      <td>1.0</td>\n",
       "      <td>7.0</td>\n",
       "      <td>7.0</td>\n",
       "      <td>Failing to use seat belt while operating a CMV</td>\n",
       "      <td>Seat Belt</td>\n",
       "      <td>D</td>\n",
       "    </tr>\n",
       "    <tr>\n",
       "      <th>7</th>\n",
       "      <td>635384853.0</td>\n",
       "      <td>26-AUG-20</td>\n",
       "      <td>2104948.0</td>\n",
       "      <td>39216</td>\n",
       "      <td>Unsafe Driving</td>\n",
       "      <td>N</td>\n",
       "      <td>0.0</td>\n",
       "      <td>7.0</td>\n",
       "      <td>1.0</td>\n",
       "      <td>7.0</td>\n",
       "      <td>7.0</td>\n",
       "      <td>Failing to use seat belt while operating a CMV</td>\n",
       "      <td>Seat Belt</td>\n",
       "      <td>D</td>\n",
       "    </tr>\n",
       "    <tr>\n",
       "      <th>28</th>\n",
       "      <td>635385087.0</td>\n",
       "      <td>26-AUG-20</td>\n",
       "      <td>163666.0</td>\n",
       "      <td>39216</td>\n",
       "      <td>Unsafe Driving</td>\n",
       "      <td>N</td>\n",
       "      <td>0.0</td>\n",
       "      <td>7.0</td>\n",
       "      <td>1.0</td>\n",
       "      <td>7.0</td>\n",
       "      <td>7.0</td>\n",
       "      <td>Failing to use seat belt while operating a CMV</td>\n",
       "      <td>Seat Belt</td>\n",
       "      <td>D</td>\n",
       "    </tr>\n",
       "    <tr>\n",
       "      <th>33</th>\n",
       "      <td>635385123.0</td>\n",
       "      <td>26-AUG-20</td>\n",
       "      <td>1035752.0</td>\n",
       "      <td>39216</td>\n",
       "      <td>Unsafe Driving</td>\n",
       "      <td>N</td>\n",
       "      <td>0.0</td>\n",
       "      <td>7.0</td>\n",
       "      <td>1.0</td>\n",
       "      <td>7.0</td>\n",
       "      <td>7.0</td>\n",
       "      <td>Failing to use seat belt while operating a CMV</td>\n",
       "      <td>Seat Belt</td>\n",
       "      <td>D</td>\n",
       "    </tr>\n",
       "    <tr>\n",
       "      <th>60</th>\n",
       "      <td>635385492.0</td>\n",
       "      <td>26-AUG-20</td>\n",
       "      <td>709698.0</td>\n",
       "      <td>39216</td>\n",
       "      <td>Unsafe Driving</td>\n",
       "      <td>N</td>\n",
       "      <td>0.0</td>\n",
       "      <td>7.0</td>\n",
       "      <td>1.0</td>\n",
       "      <td>7.0</td>\n",
       "      <td>7.0</td>\n",
       "      <td>Failing to use seat belt while operating a CMV</td>\n",
       "      <td>Seat Belt</td>\n",
       "      <td>D</td>\n",
       "    </tr>\n",
       "    <tr>\n",
       "      <th>...</th>\n",
       "      <td>...</td>\n",
       "      <td>...</td>\n",
       "      <td>...</td>\n",
       "      <td>...</td>\n",
       "      <td>...</td>\n",
       "      <td>...</td>\n",
       "      <td>...</td>\n",
       "      <td>...</td>\n",
       "      <td>...</td>\n",
       "      <td>...</td>\n",
       "      <td>...</td>\n",
       "      <td>...</td>\n",
       "      <td>...</td>\n",
       "      <td>...</td>\n",
       "    </tr>\n",
       "    <tr>\n",
       "      <th>6055054</th>\n",
       "      <td>687955095.0</td>\n",
       "      <td>24-AUG-22</td>\n",
       "      <td>3348751.0</td>\n",
       "      <td>39216</td>\n",
       "      <td>Unsafe Driving</td>\n",
       "      <td>N</td>\n",
       "      <td>0.0</td>\n",
       "      <td>7.0</td>\n",
       "      <td>3.0</td>\n",
       "      <td>7.0</td>\n",
       "      <td>21.0</td>\n",
       "      <td>Failing to use seat belt while operating a CMV</td>\n",
       "      <td>Seat Belt</td>\n",
       "      <td>D</td>\n",
       "    </tr>\n",
       "    <tr>\n",
       "      <th>6055101</th>\n",
       "      <td>687955203.0</td>\n",
       "      <td>24-AUG-22</td>\n",
       "      <td>589183.0</td>\n",
       "      <td>39216</td>\n",
       "      <td>Unsafe Driving</td>\n",
       "      <td>N</td>\n",
       "      <td>0.0</td>\n",
       "      <td>7.0</td>\n",
       "      <td>3.0</td>\n",
       "      <td>7.0</td>\n",
       "      <td>21.0</td>\n",
       "      <td>Failing to use seat belt while operating a CMV</td>\n",
       "      <td>Seat Belt</td>\n",
       "      <td>D</td>\n",
       "    </tr>\n",
       "    <tr>\n",
       "      <th>6055102</th>\n",
       "      <td>687955212.0</td>\n",
       "      <td>24-AUG-22</td>\n",
       "      <td>1293502.0</td>\n",
       "      <td>39216</td>\n",
       "      <td>Unsafe Driving</td>\n",
       "      <td>N</td>\n",
       "      <td>0.0</td>\n",
       "      <td>7.0</td>\n",
       "      <td>3.0</td>\n",
       "      <td>7.0</td>\n",
       "      <td>21.0</td>\n",
       "      <td>Failing to use seat belt while operating a CMV</td>\n",
       "      <td>Seat Belt</td>\n",
       "      <td>D</td>\n",
       "    </tr>\n",
       "    <tr>\n",
       "      <th>6055203</th>\n",
       "      <td>687955545.0</td>\n",
       "      <td>24-AUG-22</td>\n",
       "      <td>2865468.0</td>\n",
       "      <td>39216</td>\n",
       "      <td>Unsafe Driving</td>\n",
       "      <td>N</td>\n",
       "      <td>0.0</td>\n",
       "      <td>7.0</td>\n",
       "      <td>3.0</td>\n",
       "      <td>7.0</td>\n",
       "      <td>21.0</td>\n",
       "      <td>Failing to use seat belt while operating a CMV</td>\n",
       "      <td>Seat Belt</td>\n",
       "      <td>D</td>\n",
       "    </tr>\n",
       "    <tr>\n",
       "      <th>6055242</th>\n",
       "      <td>687955680.0</td>\n",
       "      <td>24-AUG-22</td>\n",
       "      <td>943037.0</td>\n",
       "      <td>39216</td>\n",
       "      <td>Unsafe Driving</td>\n",
       "      <td>N</td>\n",
       "      <td>0.0</td>\n",
       "      <td>7.0</td>\n",
       "      <td>3.0</td>\n",
       "      <td>7.0</td>\n",
       "      <td>21.0</td>\n",
       "      <td>Failing to use seat belt while operating a CMV</td>\n",
       "      <td>Seat Belt</td>\n",
       "      <td>D</td>\n",
       "    </tr>\n",
       "  </tbody>\n",
       "</table>\n",
       "<p>91076 rows × 14 columns</p>\n",
       "</div>"
      ],
      "text/plain": [
       "           UNIQUE_ID  INSP_DATE  DOT_NUMBER VIOL_CODE      BASIC_DESC   \n",
       "0        635384790.0  26-AUG-20   2582962.0     39216  Unsafe Driving  \\\n",
       "7        635384853.0  26-AUG-20   2104948.0     39216  Unsafe Driving   \n",
       "28       635385087.0  26-AUG-20    163666.0     39216  Unsafe Driving   \n",
       "33       635385123.0  26-AUG-20   1035752.0     39216  Unsafe Driving   \n",
       "60       635385492.0  26-AUG-20    709698.0     39216  Unsafe Driving   \n",
       "...              ...        ...         ...       ...             ...   \n",
       "6055054  687955095.0  24-AUG-22   3348751.0     39216  Unsafe Driving   \n",
       "6055101  687955203.0  24-AUG-22    589183.0     39216  Unsafe Driving   \n",
       "6055102  687955212.0  24-AUG-22   1293502.0     39216  Unsafe Driving   \n",
       "6055203  687955545.0  24-AUG-22   2865468.0     39216  Unsafe Driving   \n",
       "6055242  687955680.0  24-AUG-22    943037.0     39216  Unsafe Driving   \n",
       "\n",
       "        OOS_INDICATOR  OOS_WEIGHT  SEVERITY_WEIGHT  TIME_WEIGHT   \n",
       "0                   N         0.0              7.0          1.0  \\\n",
       "7                   N         0.0              7.0          1.0   \n",
       "28                  N         0.0              7.0          1.0   \n",
       "33                  N         0.0              7.0          1.0   \n",
       "60                  N         0.0              7.0          1.0   \n",
       "...               ...         ...              ...          ...   \n",
       "6055054             N         0.0              7.0          3.0   \n",
       "6055101             N         0.0              7.0          3.0   \n",
       "6055102             N         0.0              7.0          3.0   \n",
       "6055203             N         0.0              7.0          3.0   \n",
       "6055242             N         0.0              7.0          3.0   \n",
       "\n",
       "         TOT_SEVERITY_WGHT  VIOL_VALUE   \n",
       "0                      7.0         7.0  \\\n",
       "7                      7.0         7.0   \n",
       "28                     7.0         7.0   \n",
       "33                     7.0         7.0   \n",
       "60                     7.0         7.0   \n",
       "...                    ...         ...   \n",
       "6055054                7.0        21.0   \n",
       "6055101                7.0        21.0   \n",
       "6055102                7.0        21.0   \n",
       "6055203                7.0        21.0   \n",
       "6055242                7.0        21.0   \n",
       "\n",
       "                                           SECTION_DESC GROUP_DESC VIOL_UNIT  \n",
       "0        Failing to use seat belt while operating a CMV  Seat Belt         D  \n",
       "7        Failing to use seat belt while operating a CMV  Seat Belt         D  \n",
       "28       Failing to use seat belt while operating a CMV  Seat Belt         D  \n",
       "33       Failing to use seat belt while operating a CMV  Seat Belt         D  \n",
       "60       Failing to use seat belt while operating a CMV  Seat Belt         D  \n",
       "...                                                 ...        ...       ...  \n",
       "6055054  Failing to use seat belt while operating a CMV  Seat Belt         D  \n",
       "6055101  Failing to use seat belt while operating a CMV  Seat Belt         D  \n",
       "6055102  Failing to use seat belt while operating a CMV  Seat Belt         D  \n",
       "6055203  Failing to use seat belt while operating a CMV  Seat Belt         D  \n",
       "6055242  Failing to use seat belt while operating a CMV  Seat Belt         D  \n",
       "\n",
       "[91076 rows x 14 columns]"
      ]
     },
     "execution_count": 234,
     "metadata": {},
     "output_type": "execute_result"
    }
   ],
   "source": [
    "df[df['SECTION_DESC']=='Failing to use seat belt while operating a CMV']"
   ]
  },
  {
   "cell_type": "code",
   "execution_count": 230,
   "id": "4bb74ac8",
   "metadata": {},
   "outputs": [
    {
     "data": {
      "text/plain": [
       "array(['Seat Belt', 'Inspection Reports', 'Reflective Sheeting',\n",
       "       'Lighting', 'Emergency Equipment', 'Phone Call',\n",
       "       'Windshield/ Glass/ Markings', 'Brakes All Others',\n",
       "       'Wheels Studs Clamps Etc.', 'Other Vehicle Defect',\n",
       "       'Clearance Identification Lamps/Other', 'Cab Body Frame',\n",
       "       'License-related: High', 'Incomplete/Wrong Log',\n",
       "       'Brakes Out of Adjustment', 'Medical Certificate',\n",
       "       'Brake Out Of Service', 'General Securement', 'Securement Device',\n",
       "       'Improper Load Securement', 'Misc Violations', 'Tires',\n",
       "       'Speeding 2', 'EOBR Related', 'Other Log/Form & Manner',\n",
       "       'Exhaust Discharge', 'Hours', 'Failure to Prevent Movement',\n",
       "       'Documentation - HM', 'Speeding 3', 'Fuel Systems',\n",
       "       'Steering Mechanism', 'False Log', 'Load Securement - HM',\n",
       "       'License-related: Medium', 'Tiedown', 'Tire vs. Load',\n",
       "       'Hours Nominal', 'HM Other', 'General Driver Qualification',\n",
       "       'Suspension', 'Other Driver Violations', 'Dangerous Driving',\n",
       "       'Coupling Devices', 'Speeding 4', 'Warning Flags',\n",
       "       'Reckless Driving', 'Jumping OOS/Driving Fatigued',\n",
       "       'Markings - HM', 'Drugs', 'Alcohol', 'Cargo Protection - HM',\n",
       "       'Physical', 'Alcohol Possession', 'Package Testing - HM',\n",
       "       'License-related: Low', 'Speeding Related',\n",
       "       'Package Integrity - HM', 'HM Related', 'Texting',\n",
       "       'Vehicle Jumping OOS', 'Alcohol Jumping OOS', 'Fire Hazard - HM',\n",
       "       'Fraud', 'HM Route', 'Towing Loaded Bus'], dtype=object)"
      ]
     },
     "execution_count": 230,
     "metadata": {},
     "output_type": "execute_result"
    }
   ],
   "source": [
    "df['GROUP_DESC'].unique()"
   ]
  },
  {
   "cell_type": "code",
   "execution_count": 227,
   "id": "a3ba3c2a",
   "metadata": {},
   "outputs": [
    {
     "data": {
      "text/html": [
       "<div>\n",
       "<style scoped>\n",
       "    .dataframe tbody tr th:only-of-type {\n",
       "        vertical-align: middle;\n",
       "    }\n",
       "\n",
       "    .dataframe tbody tr th {\n",
       "        vertical-align: top;\n",
       "    }\n",
       "\n",
       "    .dataframe thead th {\n",
       "        text-align: right;\n",
       "    }\n",
       "</style>\n",
       "<table border=\"1\" class=\"dataframe\">\n",
       "  <thead>\n",
       "    <tr style=\"text-align: right;\">\n",
       "      <th></th>\n",
       "      <th>UNIQUE_ID</th>\n",
       "      <th>INSP_DATE</th>\n",
       "      <th>DOT_NUMBER</th>\n",
       "      <th>VIOL_CODE</th>\n",
       "      <th>BASIC_DESC</th>\n",
       "      <th>OOS_INDICATOR</th>\n",
       "      <th>OOS_WEIGHT</th>\n",
       "      <th>SEVERITY_WEIGHT</th>\n",
       "      <th>TIME_WEIGHT</th>\n",
       "      <th>TOT_SEVERITY_WGHT</th>\n",
       "      <th>VIOL_VALUE</th>\n",
       "      <th>SECTION_DESC</th>\n",
       "      <th>GROUP_DESC</th>\n",
       "      <th>VIOL_UNIT</th>\n",
       "    </tr>\n",
       "  </thead>\n",
       "  <tbody>\n",
       "  </tbody>\n",
       "</table>\n",
       "</div>"
      ],
      "text/plain": [
       "Empty DataFrame\n",
       "Columns: [UNIQUE_ID, INSP_DATE, DOT_NUMBER, VIOL_CODE, BASIC_DESC, OOS_INDICATOR, OOS_WEIGHT, SEVERITY_WEIGHT, TIME_WEIGHT, TOT_SEVERITY_WGHT, VIOL_VALUE, SECTION_DESC, GROUP_DESC, VIOL_UNIT]\n",
       "Index: []"
      ]
     },
     "execution_count": 227,
     "metadata": {},
     "output_type": "execute_result"
    }
   ],
   "source": [
    "df[df['GROUP_DESC']=='Failing to use seat belt while operating a CMV    ']"
   ]
  },
  {
   "cell_type": "code",
   "execution_count": null,
   "id": "7d8aa239",
   "metadata": {},
   "outputs": [],
   "source": []
  },
  {
   "cell_type": "code",
   "execution_count": 155,
   "id": "b2c2bdd2",
   "metadata": {},
   "outputs": [
    {
     "data": {
      "text/plain": [
       "array(['D', '1', '2', 'C', '4', '3', '5', '6'], dtype=object)"
      ]
     },
     "execution_count": 155,
     "metadata": {},
     "output_type": "execute_result"
    }
   ],
   "source": [
    "df['VIOL_UNIT'].unique()"
   ]
  },
  {
   "cell_type": "code",
   "execution_count": 160,
   "id": "fbb9ba1e",
   "metadata": {},
   "outputs": [
    {
     "name": "stdout",
     "output_type": "stream",
     "text": [
      "INSP_DATE\n",
      "col: None len: 9\n",
      "VIOL_CODE\n",
      "col: None len: 14\n",
      "BASIC_DESC\n",
      "col: None len: 36\n",
      "OOS_INDICATOR\n",
      "col: None len: 1\n",
      "SECTION_DESC\n",
      "col: None len: 162\n",
      "GROUP_DESC\n",
      "col: None len: 36\n",
      "VIOL_UNIT\n",
      "col: None len: 1\n"
     ]
    }
   ],
   "source": [
    "for col in [x for x in df.columns if df[x].dtype=='O']:\n",
    "    print(f'col: {print(col)} len: {df[col].str.len().max()}')"
   ]
  },
  {
   "cell_type": "code",
   "execution_count": 181,
   "id": "d8225636",
   "metadata": {},
   "outputs": [
    {
     "data": {
      "text/plain": [
       "array(['N', 'Y'], dtype=object)"
      ]
     },
     "execution_count": 181,
     "metadata": {},
     "output_type": "execute_result"
    }
   ],
   "source": [
    "df['OOS_INDICATOR'].unique()"
   ]
  },
  {
   "cell_type": "code",
   "execution_count": 170,
   "id": "d11b2d2a",
   "metadata": {},
   "outputs": [
    {
     "data": {
      "text/plain": [
       "46"
      ]
     },
     "execution_count": 170,
     "metadata": {},
     "output_type": "execute_result"
    }
   ],
   "source": [
    "len('Failing to use seat belt while operating a CMV')"
   ]
  },
  {
   "cell_type": "code",
   "execution_count": null,
   "id": "4ea4a967",
   "metadata": {},
   "outputs": [],
   "source": [
    "\\copy inspection FROM 'C:\\\\Users\\Munira\\Desktop\\demo-pipeline\\raw_data\\CleanedData\\2022Aug_Inspection.csv' WITH (FORMAT CSV,HEADER);\n"
   ]
  },
  {
   "cell_type": "code",
   "execution_count": 179,
   "id": "06efd404",
   "metadata": {},
   "outputs": [
    {
     "data": {
      "text/html": [
       "<div>\n",
       "<style scoped>\n",
       "    .dataframe tbody tr th:only-of-type {\n",
       "        vertical-align: middle;\n",
       "    }\n",
       "\n",
       "    .dataframe tbody tr th {\n",
       "        vertical-align: top;\n",
       "    }\n",
       "\n",
       "    .dataframe thead th {\n",
       "        text-align: right;\n",
       "    }\n",
       "</style>\n",
       "<table border=\"1\" class=\"dataframe\">\n",
       "  <thead>\n",
       "    <tr style=\"text-align: right;\">\n",
       "      <th></th>\n",
       "      <th>UNIQUE_ID</th>\n",
       "      <th>INSP_DATE</th>\n",
       "      <th>DOT_NUMBER</th>\n",
       "      <th>VIOL_CODE</th>\n",
       "      <th>BASIC_DESC</th>\n",
       "      <th>OOS_INDICATOR</th>\n",
       "      <th>OOS_WEIGHT</th>\n",
       "      <th>SEVERITY_WEIGHT</th>\n",
       "      <th>TIME_WEIGHT</th>\n",
       "      <th>TOT_SEVERITY_WGHT</th>\n",
       "      <th>VIOL_VALUE</th>\n",
       "      <th>SECTION_DESC</th>\n",
       "      <th>GROUP_DESC</th>\n",
       "      <th>VIOL_UNIT</th>\n",
       "    </tr>\n",
       "  </thead>\n",
       "  <tbody>\n",
       "    <tr>\n",
       "      <th>0</th>\n",
       "      <td>635384790.0</td>\n",
       "      <td>26-AUG-20</td>\n",
       "      <td>2582962.0</td>\n",
       "      <td>39216</td>\n",
       "      <td>Unsafe Driving</td>\n",
       "      <td>N</td>\n",
       "      <td>0.0</td>\n",
       "      <td>7.0</td>\n",
       "      <td>1.0</td>\n",
       "      <td>7.0</td>\n",
       "      <td>7.0</td>\n",
       "      <td>Failing to use seat belt while operating a CMV</td>\n",
       "      <td>Seat Belt</td>\n",
       "      <td>D</td>\n",
       "    </tr>\n",
       "    <tr>\n",
       "      <th>7</th>\n",
       "      <td>635384853.0</td>\n",
       "      <td>26-AUG-20</td>\n",
       "      <td>2104948.0</td>\n",
       "      <td>39216</td>\n",
       "      <td>Unsafe Driving</td>\n",
       "      <td>N</td>\n",
       "      <td>0.0</td>\n",
       "      <td>7.0</td>\n",
       "      <td>1.0</td>\n",
       "      <td>7.0</td>\n",
       "      <td>7.0</td>\n",
       "      <td>Failing to use seat belt while operating a CMV</td>\n",
       "      <td>Seat Belt</td>\n",
       "      <td>D</td>\n",
       "    </tr>\n",
       "    <tr>\n",
       "      <th>28</th>\n",
       "      <td>635385087.0</td>\n",
       "      <td>26-AUG-20</td>\n",
       "      <td>163666.0</td>\n",
       "      <td>39216</td>\n",
       "      <td>Unsafe Driving</td>\n",
       "      <td>N</td>\n",
       "      <td>0.0</td>\n",
       "      <td>7.0</td>\n",
       "      <td>1.0</td>\n",
       "      <td>7.0</td>\n",
       "      <td>7.0</td>\n",
       "      <td>Failing to use seat belt while operating a CMV</td>\n",
       "      <td>Seat Belt</td>\n",
       "      <td>D</td>\n",
       "    </tr>\n",
       "    <tr>\n",
       "      <th>33</th>\n",
       "      <td>635385123.0</td>\n",
       "      <td>26-AUG-20</td>\n",
       "      <td>1035752.0</td>\n",
       "      <td>39216</td>\n",
       "      <td>Unsafe Driving</td>\n",
       "      <td>N</td>\n",
       "      <td>0.0</td>\n",
       "      <td>7.0</td>\n",
       "      <td>1.0</td>\n",
       "      <td>7.0</td>\n",
       "      <td>7.0</td>\n",
       "      <td>Failing to use seat belt while operating a CMV</td>\n",
       "      <td>Seat Belt</td>\n",
       "      <td>D</td>\n",
       "    </tr>\n",
       "    <tr>\n",
       "      <th>60</th>\n",
       "      <td>635385492.0</td>\n",
       "      <td>26-AUG-20</td>\n",
       "      <td>709698.0</td>\n",
       "      <td>39216</td>\n",
       "      <td>Unsafe Driving</td>\n",
       "      <td>N</td>\n",
       "      <td>0.0</td>\n",
       "      <td>7.0</td>\n",
       "      <td>1.0</td>\n",
       "      <td>7.0</td>\n",
       "      <td>7.0</td>\n",
       "      <td>Failing to use seat belt while operating a CMV</td>\n",
       "      <td>Seat Belt</td>\n",
       "      <td>D</td>\n",
       "    </tr>\n",
       "    <tr>\n",
       "      <th>...</th>\n",
       "      <td>...</td>\n",
       "      <td>...</td>\n",
       "      <td>...</td>\n",
       "      <td>...</td>\n",
       "      <td>...</td>\n",
       "      <td>...</td>\n",
       "      <td>...</td>\n",
       "      <td>...</td>\n",
       "      <td>...</td>\n",
       "      <td>...</td>\n",
       "      <td>...</td>\n",
       "      <td>...</td>\n",
       "      <td>...</td>\n",
       "      <td>...</td>\n",
       "    </tr>\n",
       "    <tr>\n",
       "      <th>6055054</th>\n",
       "      <td>687955095.0</td>\n",
       "      <td>24-AUG-22</td>\n",
       "      <td>3348751.0</td>\n",
       "      <td>39216</td>\n",
       "      <td>Unsafe Driving</td>\n",
       "      <td>N</td>\n",
       "      <td>0.0</td>\n",
       "      <td>7.0</td>\n",
       "      <td>3.0</td>\n",
       "      <td>7.0</td>\n",
       "      <td>21.0</td>\n",
       "      <td>Failing to use seat belt while operating a CMV</td>\n",
       "      <td>Seat Belt</td>\n",
       "      <td>D</td>\n",
       "    </tr>\n",
       "    <tr>\n",
       "      <th>6055101</th>\n",
       "      <td>687955203.0</td>\n",
       "      <td>24-AUG-22</td>\n",
       "      <td>589183.0</td>\n",
       "      <td>39216</td>\n",
       "      <td>Unsafe Driving</td>\n",
       "      <td>N</td>\n",
       "      <td>0.0</td>\n",
       "      <td>7.0</td>\n",
       "      <td>3.0</td>\n",
       "      <td>7.0</td>\n",
       "      <td>21.0</td>\n",
       "      <td>Failing to use seat belt while operating a CMV</td>\n",
       "      <td>Seat Belt</td>\n",
       "      <td>D</td>\n",
       "    </tr>\n",
       "    <tr>\n",
       "      <th>6055102</th>\n",
       "      <td>687955212.0</td>\n",
       "      <td>24-AUG-22</td>\n",
       "      <td>1293502.0</td>\n",
       "      <td>39216</td>\n",
       "      <td>Unsafe Driving</td>\n",
       "      <td>N</td>\n",
       "      <td>0.0</td>\n",
       "      <td>7.0</td>\n",
       "      <td>3.0</td>\n",
       "      <td>7.0</td>\n",
       "      <td>21.0</td>\n",
       "      <td>Failing to use seat belt while operating a CMV</td>\n",
       "      <td>Seat Belt</td>\n",
       "      <td>D</td>\n",
       "    </tr>\n",
       "    <tr>\n",
       "      <th>6055203</th>\n",
       "      <td>687955545.0</td>\n",
       "      <td>24-AUG-22</td>\n",
       "      <td>2865468.0</td>\n",
       "      <td>39216</td>\n",
       "      <td>Unsafe Driving</td>\n",
       "      <td>N</td>\n",
       "      <td>0.0</td>\n",
       "      <td>7.0</td>\n",
       "      <td>3.0</td>\n",
       "      <td>7.0</td>\n",
       "      <td>21.0</td>\n",
       "      <td>Failing to use seat belt while operating a CMV</td>\n",
       "      <td>Seat Belt</td>\n",
       "      <td>D</td>\n",
       "    </tr>\n",
       "    <tr>\n",
       "      <th>6055242</th>\n",
       "      <td>687955680.0</td>\n",
       "      <td>24-AUG-22</td>\n",
       "      <td>943037.0</td>\n",
       "      <td>39216</td>\n",
       "      <td>Unsafe Driving</td>\n",
       "      <td>N</td>\n",
       "      <td>0.0</td>\n",
       "      <td>7.0</td>\n",
       "      <td>3.0</td>\n",
       "      <td>7.0</td>\n",
       "      <td>21.0</td>\n",
       "      <td>Failing to use seat belt while operating a CMV</td>\n",
       "      <td>Seat Belt</td>\n",
       "      <td>D</td>\n",
       "    </tr>\n",
       "  </tbody>\n",
       "</table>\n",
       "<p>91076 rows × 14 columns</p>\n",
       "</div>"
      ],
      "text/plain": [
       "           UNIQUE_ID  INSP_DATE  DOT_NUMBER VIOL_CODE      BASIC_DESC   \n",
       "0        635384790.0  26-AUG-20   2582962.0     39216  Unsafe Driving  \\\n",
       "7        635384853.0  26-AUG-20   2104948.0     39216  Unsafe Driving   \n",
       "28       635385087.0  26-AUG-20    163666.0     39216  Unsafe Driving   \n",
       "33       635385123.0  26-AUG-20   1035752.0     39216  Unsafe Driving   \n",
       "60       635385492.0  26-AUG-20    709698.0     39216  Unsafe Driving   \n",
       "...              ...        ...         ...       ...             ...   \n",
       "6055054  687955095.0  24-AUG-22   3348751.0     39216  Unsafe Driving   \n",
       "6055101  687955203.0  24-AUG-22    589183.0     39216  Unsafe Driving   \n",
       "6055102  687955212.0  24-AUG-22   1293502.0     39216  Unsafe Driving   \n",
       "6055203  687955545.0  24-AUG-22   2865468.0     39216  Unsafe Driving   \n",
       "6055242  687955680.0  24-AUG-22    943037.0     39216  Unsafe Driving   \n",
       "\n",
       "        OOS_INDICATOR  OOS_WEIGHT  SEVERITY_WEIGHT  TIME_WEIGHT   \n",
       "0                   N         0.0              7.0          1.0  \\\n",
       "7                   N         0.0              7.0          1.0   \n",
       "28                  N         0.0              7.0          1.0   \n",
       "33                  N         0.0              7.0          1.0   \n",
       "60                  N         0.0              7.0          1.0   \n",
       "...               ...         ...              ...          ...   \n",
       "6055054             N         0.0              7.0          3.0   \n",
       "6055101             N         0.0              7.0          3.0   \n",
       "6055102             N         0.0              7.0          3.0   \n",
       "6055203             N         0.0              7.0          3.0   \n",
       "6055242             N         0.0              7.0          3.0   \n",
       "\n",
       "         TOT_SEVERITY_WGHT  VIOL_VALUE   \n",
       "0                      7.0         7.0  \\\n",
       "7                      7.0         7.0   \n",
       "28                     7.0         7.0   \n",
       "33                     7.0         7.0   \n",
       "60                     7.0         7.0   \n",
       "...                    ...         ...   \n",
       "6055054                7.0        21.0   \n",
       "6055101                7.0        21.0   \n",
       "6055102                7.0        21.0   \n",
       "6055203                7.0        21.0   \n",
       "6055242                7.0        21.0   \n",
       "\n",
       "                                           SECTION_DESC GROUP_DESC VIOL_UNIT  \n",
       "0        Failing to use seat belt while operating a CMV  Seat Belt         D  \n",
       "7        Failing to use seat belt while operating a CMV  Seat Belt         D  \n",
       "28       Failing to use seat belt while operating a CMV  Seat Belt         D  \n",
       "33       Failing to use seat belt while operating a CMV  Seat Belt         D  \n",
       "60       Failing to use seat belt while operating a CMV  Seat Belt         D  \n",
       "...                                                 ...        ...       ...  \n",
       "6055054  Failing to use seat belt while operating a CMV  Seat Belt         D  \n",
       "6055101  Failing to use seat belt while operating a CMV  Seat Belt         D  \n",
       "6055102  Failing to use seat belt while operating a CMV  Seat Belt         D  \n",
       "6055203  Failing to use seat belt while operating a CMV  Seat Belt         D  \n",
       "6055242  Failing to use seat belt while operating a CMV  Seat Belt         D  \n",
       "\n",
       "[91076 rows x 14 columns]"
      ]
     },
     "execution_count": 179,
     "metadata": {},
     "output_type": "execute_result"
    }
   ],
   "source": [
    "df[df['SECTION_DESC'].str.contains('ailing to use seat')]"
   ]
  },
  {
   "cell_type": "code",
   "execution_count": 260,
   "id": "b9a384e0",
   "metadata": {},
   "outputs": [
    {
     "data": {
      "text/plain": [
       "14"
      ]
     },
     "execution_count": 260,
     "metadata": {},
     "output_type": "execute_result"
    }
   ],
   "source": [
    "df.shape[1]"
   ]
  },
  {
   "cell_type": "code",
   "execution_count": 262,
   "id": "a16df59b",
   "metadata": {},
   "outputs": [
    {
     "data": {
      "text/plain": [
       "Index(['UNIQUE_ID', 'INSP_DATE', 'DOT_NUMBER', 'VIOL_CODE', 'BASIC_DESC',\n",
       "       'OOS_INDICATOR', 'OOS_WEIGHT', 'SEVERITY_WEIGHT', 'TIME_WEIGHT',\n",
       "       'TOT_SEVERITY_WGHT', 'VIOL_VALUE', 'SECTION_DESC', 'GROUP_DESC',\n",
       "       'VIOL_UNIT'],\n",
       "      dtype='object')"
      ]
     },
     "execution_count": 262,
     "metadata": {},
     "output_type": "execute_result"
    }
   ],
   "source": [
    "df.columns"
   ]
  },
  {
   "cell_type": "code",
   "execution_count": null,
   "id": "2320646d",
   "metadata": {},
   "outputs": [],
   "source": []
  },
  {
   "cell_type": "code",
   "execution_count": 263,
   "id": "c77c8f99",
   "metadata": {},
   "outputs": [
    {
     "data": {
      "text/plain": [
       "0           7.0\n",
       "1           4.0\n",
       "2           3.0\n",
       "3           8.0\n",
       "4           4.0\n",
       "           ... \n",
       "6058000    12.0\n",
       "6058001     3.0\n",
       "6058002    30.0\n",
       "6058003     6.0\n",
       "6058004     6.0\n",
       "Name: VIOL_VALUE, Length: 6058005, dtype: float64"
      ]
     },
     "execution_count": 263,
     "metadata": {},
     "output_type": "execute_result"
    }
   ],
   "source": [
    "df['VIOL_VALUE']"
   ]
  },
  {
   "cell_type": "code",
   "execution_count": null,
   "id": "395bb76e",
   "metadata": {},
   "outputs": [],
   "source": [
    "CREATE TABLE violation (\n",
    "    Unique_ID FLOAT PRIMARY KEY,\n",
    "    Insp_Date DATE NOT NULL,\n",
    "    DOT_Number VARCHAR(50) NOT NULL,\n",
    "    Viol_Code VARCHAR(50) NOT NULL,\n",
    "    BASIC_Desc VARCHAR(50) ,\n",
    "    OOS_Indicator CHAR(1),\n",
    "    OOS_Weight REAL,\n",
    "    Severity_Weight FLOAT,\n",
    "    Time_Weight REAL,\n",
    "    TOT_SEVERITY_WGHT FLOAT,\n",
    "    Section_Desc VARCHAR(200) ,\n",
    "    Group_Desc VARCHAR(200),\n",
    "    Viol_Unit CHAR(2),\n",
    "    V"
   ]
  },
  {
   "cell_type": "code",
   "execution_count": null,
   "id": "b4ba2899",
   "metadata": {},
   "outputs": [],
   "source": []
  },
  {
   "cell_type": "code",
   "execution_count": 261,
   "id": "be682713",
   "metadata": {},
   "outputs": [
    {
     "data": {
      "text/html": [
       "<div>\n",
       "<style scoped>\n",
       "    .dataframe tbody tr th:only-of-type {\n",
       "        vertical-align: middle;\n",
       "    }\n",
       "\n",
       "    .dataframe tbody tr th {\n",
       "        vertical-align: top;\n",
       "    }\n",
       "\n",
       "    .dataframe thead th {\n",
       "        text-align: right;\n",
       "    }\n",
       "</style>\n",
       "<table border=\"1\" class=\"dataframe\">\n",
       "  <thead>\n",
       "    <tr style=\"text-align: right;\">\n",
       "      <th></th>\n",
       "      <th>UNIQUE_ID</th>\n",
       "      <th>INSP_DATE</th>\n",
       "      <th>DOT_NUMBER</th>\n",
       "      <th>VIOL_CODE</th>\n",
       "      <th>BASIC_DESC</th>\n",
       "      <th>OOS_INDICATOR</th>\n",
       "      <th>OOS_WEIGHT</th>\n",
       "      <th>SEVERITY_WEIGHT</th>\n",
       "      <th>TIME_WEIGHT</th>\n",
       "      <th>TOT_SEVERITY_WGHT</th>\n",
       "      <th>VIOL_VALUE</th>\n",
       "      <th>SECTION_DESC</th>\n",
       "      <th>GROUP_DESC</th>\n",
       "      <th>VIOL_UNIT</th>\n",
       "    </tr>\n",
       "  </thead>\n",
       "  <tbody>\n",
       "    <tr>\n",
       "      <th>0</th>\n",
       "      <td>635384790.0</td>\n",
       "      <td>26-AUG-20</td>\n",
       "      <td>2582962.0</td>\n",
       "      <td>39216</td>\n",
       "      <td>Unsafe Driving</td>\n",
       "      <td>N</td>\n",
       "      <td>0.0</td>\n",
       "      <td>7.0</td>\n",
       "      <td>1.0</td>\n",
       "      <td>7.0</td>\n",
       "      <td>7.0</td>\n",
       "      <td>Failing to use seat belt while operating a CMV</td>\n",
       "      <td>Seat Belt</td>\n",
       "      <td>D</td>\n",
       "    </tr>\n",
       "    <tr>\n",
       "      <th>1</th>\n",
       "      <td>635384790.0</td>\n",
       "      <td>26-AUG-20</td>\n",
       "      <td>2582962.0</td>\n",
       "      <td>3927A</td>\n",
       "      <td>Vehicle Maintenance</td>\n",
       "      <td>N</td>\n",
       "      <td>0.0</td>\n",
       "      <td>4.0</td>\n",
       "      <td>1.0</td>\n",
       "      <td>4.0</td>\n",
       "      <td>4.0</td>\n",
       "      <td>Driver failing to conduct pre-trip inspection</td>\n",
       "      <td>Inspection Reports</td>\n",
       "      <td>D</td>\n",
       "    </tr>\n",
       "    <tr>\n",
       "      <th>2</th>\n",
       "      <td>635384790.0</td>\n",
       "      <td>26-AUG-20</td>\n",
       "      <td>2582962.0</td>\n",
       "      <td>39311</td>\n",
       "      <td>Vehicle Maintenance</td>\n",
       "      <td>N</td>\n",
       "      <td>0.0</td>\n",
       "      <td>3.0</td>\n",
       "      <td>1.0</td>\n",
       "      <td>3.0</td>\n",
       "      <td>3.0</td>\n",
       "      <td>No or defective lighting devices or reflective...</td>\n",
       "      <td>Reflective Sheeting</td>\n",
       "      <td>1</td>\n",
       "    </tr>\n",
       "    <tr>\n",
       "      <th>3</th>\n",
       "      <td>635384790.0</td>\n",
       "      <td>26-AUG-20</td>\n",
       "      <td>2582962.0</td>\n",
       "      <td>39317B</td>\n",
       "      <td>Vehicle Maintenance</td>\n",
       "      <td>Y</td>\n",
       "      <td>2.0</td>\n",
       "      <td>6.0</td>\n",
       "      <td>1.0</td>\n",
       "      <td>8.0</td>\n",
       "      <td>8.0</td>\n",
       "      <td>No/defective towaway lamps on rear unit</td>\n",
       "      <td>Lighting</td>\n",
       "      <td>1</td>\n",
       "    </tr>\n",
       "    <tr>\n",
       "      <th>4</th>\n",
       "      <td>635384790.0</td>\n",
       "      <td>26-AUG-20</td>\n",
       "      <td>2582962.0</td>\n",
       "      <td>39617C</td>\n",
       "      <td>Vehicle Maintenance</td>\n",
       "      <td>N</td>\n",
       "      <td>0.0</td>\n",
       "      <td>4.0</td>\n",
       "      <td>1.0</td>\n",
       "      <td>4.0</td>\n",
       "      <td>4.0</td>\n",
       "      <td>Operating a CMV without proof of a periodic in...</td>\n",
       "      <td>Inspection Reports</td>\n",
       "      <td>1</td>\n",
       "    </tr>\n",
       "    <tr>\n",
       "      <th>...</th>\n",
       "      <td>...</td>\n",
       "      <td>...</td>\n",
       "      <td>...</td>\n",
       "      <td>...</td>\n",
       "      <td>...</td>\n",
       "      <td>...</td>\n",
       "      <td>...</td>\n",
       "      <td>...</td>\n",
       "      <td>...</td>\n",
       "      <td>...</td>\n",
       "      <td>...</td>\n",
       "      <td>...</td>\n",
       "      <td>...</td>\n",
       "      <td>...</td>\n",
       "    </tr>\n",
       "    <tr>\n",
       "      <th>6058000</th>\n",
       "      <td>687977055.0</td>\n",
       "      <td>25-AUG-22</td>\n",
       "      <td>2626512.0</td>\n",
       "      <td>39353B</td>\n",
       "      <td>Vehicle Maintenance</td>\n",
       "      <td>N</td>\n",
       "      <td>0.0</td>\n",
       "      <td>4.0</td>\n",
       "      <td>3.0</td>\n",
       "      <td>4.0</td>\n",
       "      <td>12.0</td>\n",
       "      <td>CMV manufactured after 10/19/94 has an automat...</td>\n",
       "      <td>Brakes All Others</td>\n",
       "      <td>1</td>\n",
       "    </tr>\n",
       "    <tr>\n",
       "      <th>6058001</th>\n",
       "      <td>687977055.0</td>\n",
       "      <td>25-AUG-22</td>\n",
       "      <td>2626512.0</td>\n",
       "      <td>39360C</td>\n",
       "      <td>Vehicle Maintenance</td>\n",
       "      <td>N</td>\n",
       "      <td>0.0</td>\n",
       "      <td>1.0</td>\n",
       "      <td>3.0</td>\n",
       "      <td>1.0</td>\n",
       "      <td>3.0</td>\n",
       "      <td>Damaged or discolored windshield</td>\n",
       "      <td>Windshield/ Glass/ Markings</td>\n",
       "      <td>1</td>\n",
       "    </tr>\n",
       "    <tr>\n",
       "      <th>6058002</th>\n",
       "      <td>687977055.0</td>\n",
       "      <td>25-AUG-22</td>\n",
       "      <td>2626512.0</td>\n",
       "      <td>39375A1</td>\n",
       "      <td>Vehicle Maintenance</td>\n",
       "      <td>Y</td>\n",
       "      <td>2.0</td>\n",
       "      <td>8.0</td>\n",
       "      <td>3.0</td>\n",
       "      <td>10.0</td>\n",
       "      <td>30.0</td>\n",
       "      <td>Tire-ply or belt material exposed</td>\n",
       "      <td>Tires</td>\n",
       "      <td>1</td>\n",
       "    </tr>\n",
       "    <tr>\n",
       "      <th>6058003</th>\n",
       "      <td>687977055.0</td>\n",
       "      <td>25-AUG-22</td>\n",
       "      <td>2626512.0</td>\n",
       "      <td>3963A1</td>\n",
       "      <td>Vehicle Maintenance</td>\n",
       "      <td>N</td>\n",
       "      <td>0.0</td>\n",
       "      <td>2.0</td>\n",
       "      <td>3.0</td>\n",
       "      <td>2.0</td>\n",
       "      <td>6.0</td>\n",
       "      <td>Inspection repair and maintenance of  parts &amp; ...</td>\n",
       "      <td>Wheels Studs Clamps Etc.</td>\n",
       "      <td>1</td>\n",
       "    </tr>\n",
       "    <tr>\n",
       "      <th>6058004</th>\n",
       "      <td>687977055.0</td>\n",
       "      <td>25-AUG-22</td>\n",
       "      <td>2626512.0</td>\n",
       "      <td>3963A1BOS</td>\n",
       "      <td>Vehicle Maintenance</td>\n",
       "      <td>Y</td>\n",
       "      <td>2.0</td>\n",
       "      <td>0.0</td>\n",
       "      <td>3.0</td>\n",
       "      <td>2.0</td>\n",
       "      <td>6.0</td>\n",
       "      <td>BRAKES OUT OF SERVICE: The number of defective...</td>\n",
       "      <td>Brake Out Of Service</td>\n",
       "      <td>1</td>\n",
       "    </tr>\n",
       "  </tbody>\n",
       "</table>\n",
       "<p>6058005 rows × 14 columns</p>\n",
       "</div>"
      ],
      "text/plain": [
       "           UNIQUE_ID  INSP_DATE  DOT_NUMBER  VIOL_CODE           BASIC_DESC   \n",
       "0        635384790.0  26-AUG-20   2582962.0      39216       Unsafe Driving  \\\n",
       "1        635384790.0  26-AUG-20   2582962.0      3927A  Vehicle Maintenance   \n",
       "2        635384790.0  26-AUG-20   2582962.0      39311  Vehicle Maintenance   \n",
       "3        635384790.0  26-AUG-20   2582962.0     39317B  Vehicle Maintenance   \n",
       "4        635384790.0  26-AUG-20   2582962.0     39617C  Vehicle Maintenance   \n",
       "...              ...        ...         ...        ...                  ...   \n",
       "6058000  687977055.0  25-AUG-22   2626512.0     39353B  Vehicle Maintenance   \n",
       "6058001  687977055.0  25-AUG-22   2626512.0     39360C  Vehicle Maintenance   \n",
       "6058002  687977055.0  25-AUG-22   2626512.0    39375A1  Vehicle Maintenance   \n",
       "6058003  687977055.0  25-AUG-22   2626512.0     3963A1  Vehicle Maintenance   \n",
       "6058004  687977055.0  25-AUG-22   2626512.0  3963A1BOS  Vehicle Maintenance   \n",
       "\n",
       "        OOS_INDICATOR  OOS_WEIGHT  SEVERITY_WEIGHT  TIME_WEIGHT   \n",
       "0                   N         0.0              7.0          1.0  \\\n",
       "1                   N         0.0              4.0          1.0   \n",
       "2                   N         0.0              3.0          1.0   \n",
       "3                   Y         2.0              6.0          1.0   \n",
       "4                   N         0.0              4.0          1.0   \n",
       "...               ...         ...              ...          ...   \n",
       "6058000             N         0.0              4.0          3.0   \n",
       "6058001             N         0.0              1.0          3.0   \n",
       "6058002             Y         2.0              8.0          3.0   \n",
       "6058003             N         0.0              2.0          3.0   \n",
       "6058004             Y         2.0              0.0          3.0   \n",
       "\n",
       "         TOT_SEVERITY_WGHT  VIOL_VALUE   \n",
       "0                      7.0         7.0  \\\n",
       "1                      4.0         4.0   \n",
       "2                      3.0         3.0   \n",
       "3                      8.0         8.0   \n",
       "4                      4.0         4.0   \n",
       "...                    ...         ...   \n",
       "6058000                4.0        12.0   \n",
       "6058001                1.0         3.0   \n",
       "6058002               10.0        30.0   \n",
       "6058003                2.0         6.0   \n",
       "6058004                2.0         6.0   \n",
       "\n",
       "                                              SECTION_DESC   \n",
       "0           Failing to use seat belt while operating a CMV  \\\n",
       "1            Driver failing to conduct pre-trip inspection   \n",
       "2        No or defective lighting devices or reflective...   \n",
       "3                  No/defective towaway lamps on rear unit   \n",
       "4        Operating a CMV without proof of a periodic in...   \n",
       "...                                                    ...   \n",
       "6058000  CMV manufactured after 10/19/94 has an automat...   \n",
       "6058001                   Damaged or discolored windshield   \n",
       "6058002                  Tire-ply or belt material exposed   \n",
       "6058003  Inspection repair and maintenance of  parts & ...   \n",
       "6058004  BRAKES OUT OF SERVICE: The number of defective...   \n",
       "\n",
       "                          GROUP_DESC VIOL_UNIT  \n",
       "0                          Seat Belt         D  \n",
       "1                 Inspection Reports         D  \n",
       "2                Reflective Sheeting         1  \n",
       "3                           Lighting         1  \n",
       "4                 Inspection Reports         1  \n",
       "...                              ...       ...  \n",
       "6058000            Brakes All Others         1  \n",
       "6058001  Windshield/ Glass/ Markings         1  \n",
       "6058002                        Tires         1  \n",
       "6058003     Wheels Studs Clamps Etc.         1  \n",
       "6058004         Brake Out Of Service         1  \n",
       "\n",
       "[6058005 rows x 14 columns]"
      ]
     },
     "execution_count": 261,
     "metadata": {},
     "output_type": "execute_result"
    }
   ],
   "source": [
    "df"
   ]
  },
  {
   "cell_type": "code",
   "execution_count": 180,
   "id": "427cc4ce",
   "metadata": {},
   "outputs": [
    {
     "data": {
      "text/plain": [
       "UNIQUE_ID                                               635384790.0\n",
       "INSP_DATE                                                 26-AUG-20\n",
       "DOT_NUMBER                                                2582962.0\n",
       "VIOL_CODE                                                     39216\n",
       "BASIC_DESC                                           Unsafe Driving\n",
       "OOS_INDICATOR                                                     N\n",
       "OOS_WEIGHT                                                      0.0\n",
       "SEVERITY_WEIGHT                                                 7.0\n",
       "TIME_WEIGHT                                                     1.0\n",
       "TOT_SEVERITY_WGHT                                               7.0\n",
       "VIOL_VALUE                                                      7.0\n",
       "SECTION_DESC         Failing to use seat belt while operating a CMV\n",
       "GROUP_DESC                                                Seat Belt\n",
       "VIOL_UNIT                                                         D\n",
       "Name: 0, dtype: object"
      ]
     },
     "execution_count": 180,
     "metadata": {},
     "output_type": "execute_result"
    }
   ],
   "source": [
    "df.iloc[0]"
   ]
  },
  {
   "cell_type": "code",
   "execution_count": null,
   "id": "0e1c16e9",
   "metadata": {},
   "outputs": [],
   "source": []
  },
  {
   "cell_type": "code",
   "execution_count": 130,
   "id": "a7d5cca0",
   "metadata": {},
   "outputs": [
    {
     "data": {
      "text/plain": [
       "Index(['UNIQUE_ID', 'INSP_DATE', 'DOT_NUMBER', 'VIOL_CODE', 'BASIC_DESC',\n",
       "       'OOS_INDICATOR', 'OOS_WEIGHT', 'SEVERITY_WEIGHT', 'TIME_WEIGHT',\n",
       "       'TOT_SEVERITY_WGHT', 'VIOL_VALUE', 'SECTION_DESC', 'GROUP_DESC',\n",
       "       'VIOL_UNIT'],\n",
       "      dtype='object')"
      ]
     },
     "execution_count": 130,
     "metadata": {},
     "output_type": "execute_result"
    }
   ],
   "source": [
    "df.columns"
   ]
  },
  {
   "cell_type": "code",
   "execution_count": 131,
   "id": "ece27c32",
   "metadata": {},
   "outputs": [
    {
     "data": {
      "text/plain": [
       "14"
      ]
     },
     "execution_count": 131,
     "metadata": {},
     "output_type": "execute_result"
    }
   ],
   "source": [
    "df.shape[1]"
   ]
  },
  {
   "cell_type": "code",
   "execution_count": null,
   "id": "ed644501",
   "metadata": {},
   "outputs": [],
   "source": []
  },
  {
   "cell_type": "code",
   "execution_count": null,
   "id": "87114055",
   "metadata": {},
   "outputs": [],
   "source": [
    "# Write into CSV file\n",
    "df.to_csv(os.path.join(cleaned_folder_path,os.path.split(original_filepath)[-1].replace('.txt','.csv')),index=False)\n"
   ]
  },
  {
   "cell_type": "code",
   "execution_count": null,
   "id": "7adfd346",
   "metadata": {},
   "outputs": [],
   "source": []
  },
  {
   "cell_type": "code",
   "execution_count": null,
   "id": "7ca96776",
   "metadata": {},
   "outputs": [],
   "source": [
    "import subprocess"
   ]
  },
  {
   "cell_type": "code",
   "execution_count": null,
   "id": "347c6958",
   "metadata": {},
   "outputs": [],
   "source": []
  },
  {
   "cell_type": "markdown",
   "id": "ab8a144c",
   "metadata": {},
   "source": [
    "## Copying into postgres"
   ]
  },
  {
   "cell_type": "code",
   "execution_count": null,
   "id": "b8e873f9",
   "metadata": {},
   "outputs": [],
   "source": [
    "\\copy crash FROM 'C:\\\\Users\\Munira\\Desktop\\demo-pipeline\\raw_data\\CleanedData\\2022Aug_Crash.csv' WITH (FORMAT CSV, DELIMITER ',',HEADER);\n",
    "\n",
    "\\copy inspection FROM 'C:\\\\Users\\Munira\\Desktop\\demo-pipeline\\raw_data\\CleanedData\\2022Aug_Inspection.csv' WITH (FORMAT CSV, DELIMITER ',',HEADER);"
   ]
  },
  {
   "cell_type": "code",
   "execution_count": null,
   "id": "1e7fe4d7",
   "metadata": {},
   "outputs": [],
   "source": [
    "conn,cursor=connect_to_db('staging','aculocity')\n",
    "\n",
    "cursor.execute(sql)\n",
    "conn.commit()"
   ]
  },
  {
   "cell_type": "code",
   "execution_count": 203,
   "id": "b2f5b437",
   "metadata": {},
   "outputs": [
    {
     "data": {
      "text/plain": [
       "'C:\\\\Users\\\\Munira\\\\Desktop\\\\demo-pipeline\\\\raw_data'"
      ]
     },
     "execution_count": 203,
     "metadata": {},
     "output_type": "execute_result"
    }
   ],
   "source": [
    "unzipped_folder"
   ]
  },
  {
   "cell_type": "code",
   "execution_count": 205,
   "id": "40fd8fb2",
   "metadata": {},
   "outputs": [],
   "source": [
    "full_path=os.path.join(unzipped_folder,'CleanedData','2022Aug_Crash.csv')"
   ]
  },
  {
   "cell_type": "code",
   "execution_count": 258,
   "id": "65b0c7d5",
   "metadata": {},
   "outputs": [],
   "source": [
    "sql= f\"\\copy crash FROM {full_path} WITH (FORMAT CSV,HEADER);\""
   ]
  },
  {
   "cell_type": "code",
   "execution_count": 259,
   "id": "aeecb565",
   "metadata": {},
   "outputs": [
    {
     "data": {
      "text/plain": [
       "'\\\\copy crash FROM C:\\\\Users\\\\Munira\\\\Desktop\\\\demo-pipeline\\\\raw_data\\\\CleanedData\\\\2022Aug_Crash.csv WITH (FORMAT CSV,HEADER);'"
      ]
     },
     "execution_count": 259,
     "metadata": {},
     "output_type": "execute_result"
    }
   ],
   "source": [
    "sql"
   ]
  },
  {
   "cell_type": "code",
   "execution_count": 237,
   "id": "4f0fd373",
   "metadata": {},
   "outputs": [
    {
     "data": {
      "text/plain": [
       "'C:\\\\Users\\\\Munira\\\\Desktop\\\\demo-pipeline'"
      ]
     },
     "execution_count": 237,
     "metadata": {},
     "output_type": "execute_result"
    }
   ],
   "source": [
    "os.getcwd()"
   ]
  },
  {
   "cell_type": "code",
   "execution_count": 246,
   "id": "35e54c4d",
   "metadata": {},
   "outputs": [],
   "source": [
    "subprocess.Popen?"
   ]
  },
  {
   "cell_type": "code",
   "execution_count": 248,
   "id": "a94623b9",
   "metadata": {},
   "outputs": [],
   "source": [
    "import subprocess\n",
    "\n",
    "ssh = subprocess.Popen(sql.split(' '),\n",
    "                        stdin =subprocess.PIPE,\n",
    "                        stdout=subprocess.PIPE,\n",
    "                        stderr=subprocess.PIPE,\n",
    "                       text=True,\n",
    "                        shell=True)"
   ]
  },
  {
   "cell_type": "code",
   "execution_count": 249,
   "id": "6db158a9",
   "metadata": {},
   "outputs": [
    {
     "data": {
      "text/plain": [
       "<_io.TextIOWrapper name=9 encoding='cp1252'>"
      ]
     },
     "execution_count": 249,
     "metadata": {},
     "output_type": "execute_result"
    }
   ],
   "source": [
    "ssh.stderr"
   ]
  },
  {
   "cell_type": "code",
   "execution_count": 250,
   "id": "1b853f8f",
   "metadata": {},
   "outputs": [
    {
     "data": {
      "text/plain": [
       "<_io.TextIOWrapper name=8 encoding='cp1252'>"
      ]
     },
     "execution_count": 250,
     "metadata": {},
     "output_type": "execute_result"
    }
   ],
   "source": [
    "ssh.stdout"
   ]
  },
  {
   "cell_type": "code",
   "execution_count": 253,
   "id": "8402acaf",
   "metadata": {},
   "outputs": [
    {
     "data": {
      "text/plain": [
       "('',\n",
       " \"'\\\\copy' is not recognized as an internal or external command,\\noperable program or batch file.\\n\")"
      ]
     },
     "execution_count": 253,
     "metadata": {},
     "output_type": "execute_result"
    }
   ],
   "source": [
    "ssh.communicate()"
   ]
  },
  {
   "cell_type": "code",
   "execution_count": null,
   "id": "7745e884",
   "metadata": {},
   "outputs": [],
   "source": []
  }
 ],
 "metadata": {
  "kernelspec": {
   "display_name": "Python 3 (ipykernel)",
   "language": "python",
   "name": "python3"
  },
  "language_info": {
   "codemirror_mode": {
    "name": "ipython",
    "version": 3
   },
   "file_extension": ".py",
   "mimetype": "text/x-python",
   "name": "python",
   "nbconvert_exporter": "python",
   "pygments_lexer": "ipython3",
   "version": "3.9.6"
  }
 },
 "nbformat": 4,
 "nbformat_minor": 5
}
