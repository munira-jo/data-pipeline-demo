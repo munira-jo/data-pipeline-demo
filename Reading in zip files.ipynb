{
 "cells": [
  {
   "cell_type": "code",
   "execution_count": 17,
   "id": "1c9c1fd9",
   "metadata": {},
   "outputs": [],
   "source": [
    "import psycopg2\n",
    "from zipfile import ZipFile\n",
    "import pandas as pd\n",
    "import os\n",
    "from io import StringIO\n",
    "import numpy as np\n",
    "import shutil\n",
    "\n",
    "zipped_folder=os.path.join('C:\\\\Users\\\\Munira\\\\Desktop\\\\demo-pipeline','zipped_raw_data')\n",
    "\n",
    "unzipped_folder=os.path.join('C:\\\\Users\\\\Munira\\\\Desktop\\\\demo-pipeline','raw_data')\n",
    "\n",
    "def connect_to_db(db_name,password):\n",
    "    conn = psycopg2.connect(f\"dbname={db_name} user=dataengineer host='mydb.cb7sygkkbh0u.us-east-2.rds.amazonaws.com' port=5432 password={password}\")\n",
    "    cur = conn.cursor()\n",
    "    return conn,cur\n",
    "\n",
    "def extract_and_unzip_files(zipped_folder, unzipped_folder):\n",
    "    for zip_filename in os.listdir(zipped_folder):\n",
    "        z=ZipFile(os.path.join(zipped_folder,zip_filename))\n",
    "        z.extractall(unzipped_folder)\n",
    "\n"
   ]
  },
  {
   "cell_type": "code",
   "execution_count": 25,
   "id": "3d129676",
   "metadata": {},
   "outputs": [],
   "source": [
    "def move_files_to_new_subfolder(new_folder_name,file_identifier,original_file_location):\n",
    "    try:\n",
    "        # Create subfolder\n",
    "        os.mkdir(os.path.join(unzipped_folder,new_folder_name))\n",
    "        # Get all files with file_identifier as part of their filenames\n",
    "        files_list=[x  for x in os.listdir(unzipped_folder) if file_identifier in x]\n",
    "        # Move files to new subfolder\n",
    "        for file in files_list:\n",
    "            shutil.move(os.path.join(original_file_location,file), os.path.join(original_file_location,new_folder_name,file))\n",
    "    except FileExistsError:\n",
    "        pass\n",
    "    print('Done')"
   ]
  },
  {
   "cell_type": "code",
   "execution_count": 27,
   "id": "806a59c1",
   "metadata": {},
   "outputs": [],
   "source": [
    "extract_and_unzip_files(zipped_folder,unzipped_folder)\n",
    "\n",
    "move_files_to_new_subfolder('ReadMeFiles','Readme',unzipped_folder)\n",
    "\n",
    "move_files_to_new_subfolder('DataFiles','txt',unzipped_folder)"
   ]
  },
  {
   "cell_type": "code",
   "execution_count": 123,
   "id": "2b4f14f1",
   "metadata": {},
   "outputs": [],
   "source": [
    "file_identifier='Readme'"
   ]
  },
  {
   "cell_type": "code",
   "execution_count": 124,
   "id": "02950bc6",
   "metadata": {},
   "outputs": [],
   "source": [
    "files_list = [\n",
    "    x\n",
    "    for x in os.listdir(unzipped_folder)\n",
    "    if file_identifier.lower() in x.lower()\n",
    "]"
   ]
  },
  {
   "cell_type": "code",
   "execution_count": 125,
   "id": "3f3595a4",
   "metadata": {},
   "outputs": [
    {
     "data": {
      "text/plain": [
       "['ReadMeFiles', 'ReadMe_Census.txt']"
      ]
     },
     "execution_count": 125,
     "metadata": {},
     "output_type": "execute_result"
    }
   ],
   "source": [
    "files_list\n"
   ]
  },
  {
   "cell_type": "code",
   "execution_count": null,
   "id": "52ee6c65",
   "metadata": {},
   "outputs": [],
   "source": [
    "\n",
    "# Move files to new subfolder\n",
    "for file in files_list:\n",
    "    shutil.move(\n",
    "        os.path.join(original_file_location, file),\n",
    "        os.path.join(original_file_location, new_folder_name, file),\n",
    "    )"
   ]
  },
  {
   "cell_type": "code",
   "execution_count": 119,
   "id": "a4b4f5d9",
   "metadata": {},
   "outputs": [
    {
     "name": "stdout",
     "output_type": "stream",
     "text": [
      "Done\n"
     ]
    }
   ],
   "source": [
    "move_files_to_new_subfolder('ReadMeFiles','Readme',unzipped_folder)"
   ]
  },
  {
   "cell_type": "code",
   "execution_count": null,
   "id": "b840b9a6",
   "metadata": {},
   "outputs": [],
   "source": []
  },
  {
   "cell_type": "markdown",
   "id": "867dce5f",
   "metadata": {},
   "source": [
    "## Modifying raw data files"
   ]
  },
  {
   "cell_type": "code",
   "execution_count": 60,
   "id": "8747607a",
   "metadata": {},
   "outputs": [],
   "source": [
    "os.mkdir(os.path.join(unzipped_folder,'CleanedData'))"
   ]
  },
  {
   "cell_type": "code",
   "execution_count": 90,
   "id": "4cdce9aa",
   "metadata": {},
   "outputs": [
    {
     "data": {
      "text/plain": [
       "'CleanedData'"
      ]
     },
     "execution_count": 90,
     "metadata": {},
     "output_type": "execute_result"
    }
   ],
   "source": [
    "os.path.join(unzipped_folder,'CleanedData').split('\\\\')[-1]"
   ]
  },
  {
   "cell_type": "code",
   "execution_count": 106,
   "id": "d31b2806",
   "metadata": {},
   "outputs": [],
   "source": [
    "def clean_raw_data_files(original_filepath,cleaned_folder_path):\n",
    "\n",
    "    df=pd.read_csv(original_filepath,encoding='cp1252')\n",
    "\n",
    "    # Remove rows where all values are missing\n",
    "    df=df.dropna(how='all')\n",
    "\n",
    "    # Replacing empty strings for float columns with nans\n",
    "    num_cols = [col for col in df.columns if df[col].dtype in ['float64','int64']]\n",
    "    for col in num_cols:\n",
    "        df[col]=df[col].fillna(np.nan)\n",
    "        df.loc[df[col]=='',col]=np.nan\n",
    "\n",
    "    # Replacing nulls with empty strings for text columns\n",
    "    cols=[col for col in df.columns if df[col].dtype=='O']\n",
    "    for col in cols:\n",
    "        df[col]=df[col].fillna('')\n",
    "\n",
    "    # Write into CSV file\n",
    "    df.to_csv(os.path.join(cleaned_folder_path,os.path.split(original_filepath)[-1].replace('.txt','.csv')),index=False)\n"
   ]
  },
  {
   "cell_type": "code",
   "execution_count": 116,
   "id": "05ea9c37",
   "metadata": {},
   "outputs": [],
   "source": [
    "original_filepath=os.path.join(unzipped_folder,'DataFiles','FMCSA_CENSUS1_2022Aug.txt')"
   ]
  },
  {
   "cell_type": "code",
   "execution_count": 117,
   "id": "feb21d7c",
   "metadata": {},
   "outputs": [],
   "source": [
    "cleaned_folder_path=os.path.join(unzipped_folder,'CleanedData')"
   ]
  },
  {
   "cell_type": "code",
   "execution_count": 118,
   "id": "d2465146",
   "metadata": {},
   "outputs": [],
   "source": [
    "clean_raw_data_files(original_filepath,cleaned_folder_path)"
   ]
  },
  {
   "cell_type": "code",
   "execution_count": null,
   "id": "5eec18d7",
   "metadata": {},
   "outputs": [],
   "source": []
  },
  {
   "cell_type": "code",
   "execution_count": null,
   "id": "6ee9aa14",
   "metadata": {},
   "outputs": [],
   "source": []
  },
  {
   "cell_type": "code",
   "execution_count": null,
   "id": "dccb6f13",
   "metadata": {},
   "outputs": [],
   "source": []
  },
  {
   "cell_type": "code",
   "execution_count": null,
   "id": "5c721f21",
   "metadata": {},
   "outputs": [],
   "source": []
  },
  {
   "cell_type": "code",
   "execution_count": null,
   "id": "56e5a26a",
   "metadata": {},
   "outputs": [],
   "source": []
  },
  {
   "cell_type": "markdown",
   "id": "ab8a144c",
   "metadata": {},
   "source": [
    "## Copying into postgres"
   ]
  },
  {
   "cell_type": "code",
   "execution_count": null,
   "id": "1ad89465",
   "metadata": {},
   "outputs": [],
   "source": [
    "\\copy crash FROM 'C:\\\\Users\\Munira\\Desktop\\demo-pipeline\\raw_data\\CleanedData\\2022Aug_Crash.csv' WITH (FORMAT CSV, DELIMITER ',',HEADER);"
   ]
  },
  {
   "cell_type": "code",
   "execution_count": null,
   "id": "f9e577ad",
   "metadata": {},
   "outputs": [],
   "source": [
    "\\copy inspection FROM 'C:\\\\Users\\Munira\\Desktop\\demo-pipeline\\raw_data\\CleanedData\\2022Aug_Inspection.csv' WITH (FORMAT CSV, DELIMITER ',',HEADER);"
   ]
  },
  {
   "cell_type": "markdown",
   "id": "f48fd1fb",
   "metadata": {},
   "source": [
    "# Creating tables"
   ]
  },
  {
   "cell_type": "code",
   "execution_count": null,
   "id": "b3af2b5e",
   "metadata": {},
   "outputs": [],
   "source": [
    "### Crash\n",
    "\n",
    "CREATE TABLE crash (\n",
    "  Report_number VARCHAR(50) NOT NULL,\n",
    "  Report_seq_no REAL NOT NULL,\n",
    "  DOT_Number VARCHAR(50),\n",
    "  Report_Date DATE,\n",
    "  Report_State CHAR(2),\n",
    "  Fatalities REAL,\n",
    "  Injuries REAL,\n",
    "  Tow_Away CHAR(1),\n",
    "  Hazmat_released CHAR(1),\n",
    "  Trafficway_Desc VARCHAR(255),\n",
    "  Access_Control_Desc VARCHAR(255),\n",
    "  Road_surface_Condition_Desc VARCHAR(255),\n",
    "  Weather_Condition_Desc VARCHAR(255),\n",
    "  Light_Condition_Desc VARCHAR(255),\n",
    "  Vehicle_ID_Number VARCHAR(50),\n",
    "  Vehicle_License_number VARCHAR(50),\n",
    "  Vehicle_license_state CHAR(2),\n",
    "  Severity_Weight REAL,\n",
    "  Time_weight REAL,\n",
    "  citation_issued_desc VARCHAR(255),\n",
    "  seq_num REAL,\n",
    "  Not_Preventable CHAR(1)\n",
    ");\n",
    "\n",
    "\n",
    "### Inspection\n",
    "\n",
    "CREATE TABLE inspection (\n",
    "  Unique_ID FLOAT PRIMARY KEY,\n",
    "  Report_Number VARCHAR(255)  NOT NULL,\n",
    "  Report_State VARCHAR(2) ,\n",
    "  DOT_Number VARCHAR(255) NOT NULL,\n",
    "  Insp_Date DATE NOT NULL,\n",
    "  Insp_level_ID FLOAT NOT NULL,\n",
    "  County_code_State VARCHAR(2) NOT NULL,\n",
    "  Time_Weight FLOAT NOT NULL,\n",
    "  Driver_OOS_Total FLOAT ,\n",
    "  Vehicle_OOS_Total FLOAT,\n",
    "  Total_Hazmat_Sent FLOAT ,\n",
    "  OOS_Total FLOAT,\n",
    "  Hazmat_OOS_Total FLOAT,\n",
    "  Hazmat_Placard_req CHAR(1) ,\n",
    "  Unit_Type_Desc VARCHAR(255),\n",
    "  Unit_Make VARCHAR(255) ,\n",
    "  Unit_License VARCHAR(255) ,\n",
    "  Unit_License_State VARCHAR(2),\n",
    "  VIN VARCHAR(255) ,\n",
    "  Unit_Decal_Number VARCHAR(255) ,\n",
    "  Unit_Type_Desc2 VARCHAR(255),\n",
    "  Unit_Make2 VARCHAR(255),\n",
    "  Unit_License2 VARCHAR(255),\n",
    "  Unit_License_State2 VARCHAR(2),\n",
    "  VIN2 VARCHAR(255),\n",
    "  Unit_Decal_Number2 VARCHAR(255),\n",
    "  Unsafe_Insp CHAR(1) ,\n",
    "  Fatigued_Insp CHAR(1) ,\n",
    "  Dr_Fitness_Insp CHAR(1) ,\n",
    "  Subt_Alcohol_Insp CHAR(1),\n",
    "  Vh_Maint_Insp CHAR(1),\n",
    "  HM_Insp CHAR(1) ,\n",
    "  BASIC_Viol FLOAT ,\n",
    "  Unsafe_Viol FLOAT,\n",
    "  Fatigued_Viol FLOAT,\n",
    "  Dr_Fitness_Viol FLOAT,\n",
    "  Subt_Alcohol_Viol FLOAT,\n",
    "  Vh_Maint_Viol FLOAT ,\n",
    "  HM_Viol FLOAT \n",
    ");\n",
    "\n",
    "\n",
    "### Violation\n",
    "\n",
    "CREATE TABLE violation (\n",
    "    Unique_ID FLOAT PRIMARY KEY,\n",
    "    Insp_Date DATE NOT NULL,\n",
    "    DOT_Number VARCHAR(50) NOT NULL,\n",
    "    Viol_Code VARCHAR(10) NOT NULL,\n",
    "    BASIC_Desc VARCHAR(50) ,\n",
    "    OOS_Indicator CHAR(1),\n",
    "    OOS_Weight REAL,\n",
    "    Severity_Weight FLOAT,\n",
    "    Time_Weight REAL,\n",
    "    Total_Severity_Wght FLOAT,\n",
    "    Section_Desc VARCHAR(200) ,\n",
    "    Group_Desc VARCHAR(200),\n",
    "    Viol_Unit CHAR(1)\n",
    ");\n",
    "\n",
    "\n",
    "### Census\n",
    "\n",
    "CREATE TABLE census (\n",
    "    DOT_NUMBER TEXT PRIMARY KEY,\n",
    "    LEGAL_NAME TEXT,\n",
    "    DBA_NAME TEXT,\n",
    "    CARRIER_OPERATION TEXT,\n",
    "    HM_FLAG TEXT,\n",
    "    PC_FLAG TEXT,\n",
    "    PHY_STREET TEXT,\n",
    "    PHY_CITY TEXT,\n",
    "    PHY_STATE TEXT,\n",
    "    PHY_ZIP TEXT,\n",
    "    PHY_COUNTRY TEXT,\n",
    "    MAILING_STREET TEXT,\n",
    "    MAILING_CITY TEXT,\n",
    "    MAILING_STATE TEXT,\n",
    "    MAILING_ZIP TEXT,\n",
    "    MAILING_COUNTRY TEXT,\n",
    "    TELEPHONE TEXT,\n",
    "    FAX TEXT,\n",
    "    EMAIL_ADDRESS TEXT,\n",
    "    MCS150_DATE DATE,\n",
    "    MCS150_MILEAGE NUMERIC,\n",
    "    MCS150_MILEAGE_YEAR FLOAT,\n",
    "    ADD_DATE DATE,\n",
    "    OIC_STATE TEXT,\n",
    "    NBR_POWER_UNIT FLOAT,\n",
    "    DRIVER_TOTAL FLOAT,\n",
    "    RECENT_MILEAGE NUMERIC,\n",
    "    RECENT_MILEAGE_YEAR FLOAT,\n",
    "    VMT_SOURCE_ID FLOAT\n",
    ");\n"
   ]
  }
 ],
 "metadata": {
  "kernelspec": {
   "display_name": "Python 3 (ipykernel)",
   "language": "python",
   "name": "python3"
  },
  "language_info": {
   "codemirror_mode": {
    "name": "ipython",
    "version": 3
   },
   "file_extension": ".py",
   "mimetype": "text/x-python",
   "name": "python",
   "nbconvert_exporter": "python",
   "pygments_lexer": "ipython3",
   "version": "3.9.6"
  }
 },
 "nbformat": 4,
 "nbformat_minor": 5
}
